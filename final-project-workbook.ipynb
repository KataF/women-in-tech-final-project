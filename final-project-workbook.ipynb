{
 "cells": [
  {
   "cell_type": "markdown",
   "metadata": {},
   "source": [
    "# Final Project\n",
    "\n",
    "## Python for Data Analysis Training Program\n",
    "\n",
    "Written in March-April 2020 by Team \"Diversity-in-Tech\""
   ]
  },
  {
   "cell_type": "markdown",
   "metadata": {},
   "source": [
    "## 1. Introduction\n",
    "\n",
    "The project Team \"Diversity-in-Tech\" consists of three persons Anita-tech, seth08 and Rami-Laaksonen. The team has chosen to work with and analyse the dataset \"women-in-tech\" written by tarasiegel.\n",
    "\n",
    "The project is made as the final project of the Python for Data Analysis training program, which is organized by The Shortcut Oy in Helsinki, Finland.\n",
    "\n",
    "The plan of this project is to explore the dataset and by doing so learn how to best analyse and visualize its contents. The main aims of the project are as follows:\n",
    "\n",
    "- We explore any interesting correlations found in the datasets\n",
    "- We measure female to male ratio in companies in general\n",
    "- We take a look at female to male ratio in companies as sorted by their various categories\n",
    "- We determine in which company category the number of females is the highest\n",
    "- We explore the effects, if any, of company funding to female to male ratio\n",
    "\n",
    "In addition to the main aims there may be other findings found during the data exploration. These additional findings will be included in the report as well."
   ]
  },
  {
   "cell_type": "markdown",
   "metadata": {},
   "source": [
    "## 2. Processing The Dataset\n"
   ]
  },
  {
   "cell_type": "code",
   "execution_count": 1,
   "metadata": {},
   "outputs": [],
   "source": [
    "# Importing the libraries\n",
    "import numpy as np\n",
    "import pandas as pd\n",
    "import matplotlib.pyplot as plt\n",
    "import seaborn as sns"
   ]
  },
  {
   "cell_type": "code",
   "execution_count": 2,
   "metadata": {},
   "outputs": [],
   "source": [
    "# Accessing the CSV file\n",
    "url_tech = 'https://github.com/tarasiegel/women-in-tech/raw/master/data/companies.csv'"
   ]
  },
  {
   "cell_type": "code",
   "execution_count": 3,
   "metadata": {},
   "outputs": [
    {
     "data": {
      "text/html": [
       "<div>\n",
       "<style scoped>\n",
       "    .dataframe tbody tr th:only-of-type {\n",
       "        vertical-align: middle;\n",
       "    }\n",
       "\n",
       "    .dataframe tbody tr th {\n",
       "        vertical-align: top;\n",
       "    }\n",
       "\n",
       "    .dataframe thead th {\n",
       "        text-align: right;\n",
       "    }\n",
       "</style>\n",
       "<table border=\"1\" class=\"dataframe\">\n",
       "  <thead>\n",
       "    <tr style=\"text-align: right;\">\n",
       "      <th></th>\n",
       "      <th>Company</th>\n",
       "      <th>Num. of Female Engineers</th>\n",
       "      <th>male_eng</th>\n",
       "      <th>Total Engineers</th>\n",
       "      <th>Percent Female Engineers</th>\n",
       "      <th>Total Employees</th>\n",
       "      <th>Location</th>\n",
       "      <th>Funding (Mil)</th>\n",
       "      <th>Category</th>\n",
       "      <th>Website</th>\n",
       "      <th>grace_hopper</th>\n",
       "    </tr>\n",
       "    <tr>\n",
       "      <th>key</th>\n",
       "      <th></th>\n",
       "      <th></th>\n",
       "      <th></th>\n",
       "      <th></th>\n",
       "      <th></th>\n",
       "      <th></th>\n",
       "      <th></th>\n",
       "      <th></th>\n",
       "      <th></th>\n",
       "      <th></th>\n",
       "      <th></th>\n",
       "    </tr>\n",
       "  </thead>\n",
       "  <tbody>\n",
       "    <tr>\n",
       "      <td>37signals</td>\n",
       "      <td>37signals</td>\n",
       "      <td>0</td>\n",
       "      <td>20</td>\n",
       "      <td>20</td>\n",
       "      <td>0.00</td>\n",
       "      <td>20.0</td>\n",
       "      <td>IL</td>\n",
       "      <td>0.00</td>\n",
       "      <td>Software</td>\n",
       "      <td>http://www.37signals.com</td>\n",
       "      <td>NaN</td>\n",
       "    </tr>\n",
       "    <tr>\n",
       "      <td>7digital</td>\n",
       "      <td>7digital</td>\n",
       "      <td>1</td>\n",
       "      <td>20</td>\n",
       "      <td>21</td>\n",
       "      <td>4.76</td>\n",
       "      <td>120.0</td>\n",
       "      <td>London</td>\n",
       "      <td>18.50</td>\n",
       "      <td>Consumer Web</td>\n",
       "      <td>http://www.7digital.com</td>\n",
       "      <td>NaN</td>\n",
       "    </tr>\n",
       "    <tr>\n",
       "      <td>activision</td>\n",
       "      <td>Activision</td>\n",
       "      <td>1</td>\n",
       "      <td>29</td>\n",
       "      <td>30</td>\n",
       "      <td>3.33</td>\n",
       "      <td>706.0</td>\n",
       "      <td>CA</td>\n",
       "      <td>0.00</td>\n",
       "      <td>Games/Entertainment</td>\n",
       "      <td>http://www.activison.com</td>\n",
       "      <td>NaN</td>\n",
       "    </tr>\n",
       "    <tr>\n",
       "      <td>adzerk</td>\n",
       "      <td>Adzerk</td>\n",
       "      <td>1</td>\n",
       "      <td>4</td>\n",
       "      <td>5</td>\n",
       "      <td>20.00</td>\n",
       "      <td>9.0</td>\n",
       "      <td>NC</td>\n",
       "      <td>0.65</td>\n",
       "      <td>Advertising</td>\n",
       "      <td>http://www.adzerk.com</td>\n",
       "      <td>NaN</td>\n",
       "    </tr>\n",
       "    <tr>\n",
       "      <td>airbnb</td>\n",
       "      <td>Airbnb</td>\n",
       "      <td>10</td>\n",
       "      <td>66</td>\n",
       "      <td>76</td>\n",
       "      <td>13.16</td>\n",
       "      <td>1324.0</td>\n",
       "      <td>CA</td>\n",
       "      <td>326.00</td>\n",
       "      <td>Consumer Web</td>\n",
       "      <td>http://www.airbnb.com</td>\n",
       "      <td>YES</td>\n",
       "    </tr>\n",
       "  </tbody>\n",
       "</table>\n",
       "</div>"
      ],
      "text/plain": [
       "               Company  Num. of Female Engineers  male_eng  Total Engineers  \\\n",
       "key                                                                           \n",
       "37signals    37signals                         0        20               20   \n",
       "7digital      7digital                         1        20               21   \n",
       "activision  Activision                         1        29               30   \n",
       "adzerk          Adzerk                         1         4                5   \n",
       "airbnb          Airbnb                        10        66               76   \n",
       "\n",
       "            Percent Female Engineers  Total Employees Location  Funding (Mil)  \\\n",
       "key                                                                             \n",
       "37signals                       0.00             20.0       IL           0.00   \n",
       "7digital                        4.76            120.0   London          18.50   \n",
       "activision                      3.33            706.0       CA           0.00   \n",
       "adzerk                         20.00              9.0       NC           0.65   \n",
       "airbnb                         13.16           1324.0       CA         326.00   \n",
       "\n",
       "                       Category                   Website grace_hopper  \n",
       "key                                                                     \n",
       "37signals              Software  http://www.37signals.com          NaN  \n",
       "7digital           Consumer Web   http://www.7digital.com          NaN  \n",
       "activision  Games/Entertainment  http://www.activison.com          NaN  \n",
       "adzerk              Advertising     http://www.adzerk.com          NaN  \n",
       "airbnb             Consumer Web     http://www.airbnb.com          YES  "
      ]
     },
     "execution_count": 3,
     "metadata": {},
     "output_type": "execute_result"
    }
   ],
   "source": [
    "# Reading the CSV file and checking the dataset\n",
    "tech = pd.read_csv(url_tech, index_col=[0])\n",
    "tech.head()"
   ]
  },
  {
   "cell_type": "markdown",
   "metadata": {},
   "source": [
    "### 2.1 Data Cleaning and Exploratory Data Analysis"
   ]
  },
  {
   "cell_type": "code",
   "execution_count": 4,
   "metadata": {},
   "outputs": [],
   "source": [
    "# Data cleaning and EDA"
   ]
  },
  {
   "cell_type": "code",
   "execution_count": 5,
   "metadata": {},
   "outputs": [
    {
     "name": "stdout",
     "output_type": "stream",
     "text": [
      "<class 'pandas.core.frame.DataFrame'>\n",
      "Index: 122 entries, 37signals to zerocater\n",
      "Data columns (total 11 columns):\n",
      "Company                     122 non-null object\n",
      "Num. of Female Engineers    122 non-null int64\n",
      "male_eng                    122 non-null int64\n",
      "Total Engineers             122 non-null int64\n",
      "Percent Female Engineers    122 non-null float64\n",
      "Total Employees             121 non-null float64\n",
      "Location                    120 non-null object\n",
      "Funding (Mil)               121 non-null float64\n",
      "Category                    121 non-null object\n",
      "Website                     121 non-null object\n",
      "grace_hopper                9 non-null object\n",
      "dtypes: float64(3), int64(3), object(5)\n",
      "memory usage: 11.4+ KB\n"
     ]
    }
   ],
   "source": [
    "# Checking the types of the dataset's columns\n",
    "tech.info()"
   ]
  },
  {
   "cell_type": "code",
   "execution_count": 6,
   "metadata": {},
   "outputs": [
    {
     "data": {
      "text/html": [
       "<div>\n",
       "<style scoped>\n",
       "    .dataframe tbody tr th:only-of-type {\n",
       "        vertical-align: middle;\n",
       "    }\n",
       "\n",
       "    .dataframe tbody tr th {\n",
       "        vertical-align: top;\n",
       "    }\n",
       "\n",
       "    .dataframe thead th {\n",
       "        text-align: right;\n",
       "    }\n",
       "</style>\n",
       "<table border=\"1\" class=\"dataframe\">\n",
       "  <thead>\n",
       "    <tr style=\"text-align: right;\">\n",
       "      <th></th>\n",
       "      <th>Num. of Female Engineers</th>\n",
       "      <th>male_eng</th>\n",
       "      <th>Total Engineers</th>\n",
       "      <th>Percent Female Engineers</th>\n",
       "      <th>Total Employees</th>\n",
       "      <th>Funding (Mil)</th>\n",
       "    </tr>\n",
       "  </thead>\n",
       "  <tbody>\n",
       "    <tr>\n",
       "      <td>count</td>\n",
       "      <td>122.000000</td>\n",
       "      <td>122.000000</td>\n",
       "      <td>122.000000</td>\n",
       "      <td>122.000000</td>\n",
       "      <td>121.000000</td>\n",
       "      <td>121.000000</td>\n",
       "    </tr>\n",
       "    <tr>\n",
       "      <td>mean</td>\n",
       "      <td>8.819672</td>\n",
       "      <td>62.795082</td>\n",
       "      <td>71.614754</td>\n",
       "      <td>16.571885</td>\n",
       "      <td>296.752066</td>\n",
       "      <td>78.820529</td>\n",
       "    </tr>\n",
       "    <tr>\n",
       "      <td>std</td>\n",
       "      <td>50.035032</td>\n",
       "      <td>355.165005</td>\n",
       "      <td>405.057009</td>\n",
       "      <td>16.678773</td>\n",
       "      <td>1535.100981</td>\n",
       "      <td>422.906491</td>\n",
       "    </tr>\n",
       "    <tr>\n",
       "      <td>min</td>\n",
       "      <td>0.000000</td>\n",
       "      <td>0.000000</td>\n",
       "      <td>1.000000</td>\n",
       "      <td>0.000000</td>\n",
       "      <td>4.000000</td>\n",
       "      <td>0.000000</td>\n",
       "    </tr>\n",
       "    <tr>\n",
       "      <td>25%</td>\n",
       "      <td>1.000000</td>\n",
       "      <td>6.000000</td>\n",
       "      <td>7.000000</td>\n",
       "      <td>6.260000</td>\n",
       "      <td>25.000000</td>\n",
       "      <td>0.650000</td>\n",
       "    </tr>\n",
       "    <tr>\n",
       "      <td>50%</td>\n",
       "      <td>2.000000</td>\n",
       "      <td>16.000000</td>\n",
       "      <td>18.500000</td>\n",
       "      <td>13.535000</td>\n",
       "      <td>66.000000</td>\n",
       "      <td>10.500000</td>\n",
       "    </tr>\n",
       "    <tr>\n",
       "      <td>75%</td>\n",
       "      <td>5.000000</td>\n",
       "      <td>29.000000</td>\n",
       "      <td>34.250000</td>\n",
       "      <td>21.072500</td>\n",
       "      <td>162.000000</td>\n",
       "      <td>31.200000</td>\n",
       "    </tr>\n",
       "    <tr>\n",
       "      <td>max</td>\n",
       "      <td>553.000000</td>\n",
       "      <td>3907.000000</td>\n",
       "      <td>4460.000000</td>\n",
       "      <td>100.000000</td>\n",
       "      <td>16779.000000</td>\n",
       "      <td>4596.067000</td>\n",
       "    </tr>\n",
       "  </tbody>\n",
       "</table>\n",
       "</div>"
      ],
      "text/plain": [
       "       Num. of Female Engineers     male_eng  Total Engineers  \\\n",
       "count                122.000000   122.000000       122.000000   \n",
       "mean                   8.819672    62.795082        71.614754   \n",
       "std                   50.035032   355.165005       405.057009   \n",
       "min                    0.000000     0.000000         1.000000   \n",
       "25%                    1.000000     6.000000         7.000000   \n",
       "50%                    2.000000    16.000000        18.500000   \n",
       "75%                    5.000000    29.000000        34.250000   \n",
       "max                  553.000000  3907.000000      4460.000000   \n",
       "\n",
       "       Percent Female Engineers  Total Employees  Funding (Mil)  \n",
       "count                122.000000       121.000000     121.000000  \n",
       "mean                  16.571885       296.752066      78.820529  \n",
       "std                   16.678773      1535.100981     422.906491  \n",
       "min                    0.000000         4.000000       0.000000  \n",
       "25%                    6.260000        25.000000       0.650000  \n",
       "50%                   13.535000        66.000000      10.500000  \n",
       "75%                   21.072500       162.000000      31.200000  \n",
       "max                  100.000000     16779.000000    4596.067000  "
      ]
     },
     "execution_count": 6,
     "metadata": {},
     "output_type": "execute_result"
    }
   ],
   "source": [
    "# Checking the description of the dataset\n",
    "tech.describe()"
   ]
  },
  {
   "cell_type": "code",
   "execution_count": 7,
   "metadata": {},
   "outputs": [
    {
     "data": {
      "text/html": [
       "<div>\n",
       "<style scoped>\n",
       "    .dataframe tbody tr th:only-of-type {\n",
       "        vertical-align: middle;\n",
       "    }\n",
       "\n",
       "    .dataframe tbody tr th {\n",
       "        vertical-align: top;\n",
       "    }\n",
       "\n",
       "    .dataframe thead th {\n",
       "        text-align: right;\n",
       "    }\n",
       "</style>\n",
       "<table border=\"1\" class=\"dataframe\">\n",
       "  <thead>\n",
       "    <tr style=\"text-align: right;\">\n",
       "      <th></th>\n",
       "      <th>Num. of Female Engineers</th>\n",
       "      <th>male_eng</th>\n",
       "      <th>Total Engineers</th>\n",
       "      <th>Percent Female Engineers</th>\n",
       "      <th>Total Employees</th>\n",
       "      <th>Funding (Mil)</th>\n",
       "    </tr>\n",
       "  </thead>\n",
       "  <tbody>\n",
       "    <tr>\n",
       "      <td>Num. of Female Engineers</td>\n",
       "      <td>1.000000</td>\n",
       "      <td>0.996739</td>\n",
       "      <td>0.997494</td>\n",
       "      <td>-0.017731</td>\n",
       "      <td>0.989621</td>\n",
       "      <td>0.980123</td>\n",
       "    </tr>\n",
       "    <tr>\n",
       "      <td>male_eng</td>\n",
       "      <td>0.996739</td>\n",
       "      <td>1.000000</td>\n",
       "      <td>0.999950</td>\n",
       "      <td>-0.049380</td>\n",
       "      <td>0.988983</td>\n",
       "      <td>0.976506</td>\n",
       "    </tr>\n",
       "    <tr>\n",
       "      <td>Total Engineers</td>\n",
       "      <td>0.997494</td>\n",
       "      <td>0.999950</td>\n",
       "      <td>1.000000</td>\n",
       "      <td>-0.045488</td>\n",
       "      <td>0.989411</td>\n",
       "      <td>0.977292</td>\n",
       "    </tr>\n",
       "    <tr>\n",
       "      <td>Percent Female Engineers</td>\n",
       "      <td>-0.017731</td>\n",
       "      <td>-0.049380</td>\n",
       "      <td>-0.045488</td>\n",
       "      <td>1.000000</td>\n",
       "      <td>-0.042832</td>\n",
       "      <td>-0.043293</td>\n",
       "    </tr>\n",
       "    <tr>\n",
       "      <td>Total Employees</td>\n",
       "      <td>0.989621</td>\n",
       "      <td>0.988983</td>\n",
       "      <td>0.989411</td>\n",
       "      <td>-0.042832</td>\n",
       "      <td>1.000000</td>\n",
       "      <td>0.979518</td>\n",
       "    </tr>\n",
       "    <tr>\n",
       "      <td>Funding (Mil)</td>\n",
       "      <td>0.980123</td>\n",
       "      <td>0.976506</td>\n",
       "      <td>0.977292</td>\n",
       "      <td>-0.043293</td>\n",
       "      <td>0.979518</td>\n",
       "      <td>1.000000</td>\n",
       "    </tr>\n",
       "  </tbody>\n",
       "</table>\n",
       "</div>"
      ],
      "text/plain": [
       "                          Num. of Female Engineers  male_eng  Total Engineers  \\\n",
       "Num. of Female Engineers                  1.000000  0.996739         0.997494   \n",
       "male_eng                                  0.996739  1.000000         0.999950   \n",
       "Total Engineers                           0.997494  0.999950         1.000000   \n",
       "Percent Female Engineers                 -0.017731 -0.049380        -0.045488   \n",
       "Total Employees                           0.989621  0.988983         0.989411   \n",
       "Funding (Mil)                             0.980123  0.976506         0.977292   \n",
       "\n",
       "                          Percent Female Engineers  Total Employees  \\\n",
       "Num. of Female Engineers                 -0.017731         0.989621   \n",
       "male_eng                                 -0.049380         0.988983   \n",
       "Total Engineers                          -0.045488         0.989411   \n",
       "Percent Female Engineers                  1.000000        -0.042832   \n",
       "Total Employees                          -0.042832         1.000000   \n",
       "Funding (Mil)                            -0.043293         0.979518   \n",
       "\n",
       "                          Funding (Mil)  \n",
       "Num. of Female Engineers       0.980123  \n",
       "male_eng                       0.976506  \n",
       "Total Engineers                0.977292  \n",
       "Percent Female Engineers      -0.043293  \n",
       "Total Employees                0.979518  \n",
       "Funding (Mil)                  1.000000  "
      ]
     },
     "execution_count": 7,
     "metadata": {},
     "output_type": "execute_result"
    }
   ],
   "source": [
    "# Checking for any correlations in the dataset\n",
    "tech.corr()"
   ]
  },
  {
   "cell_type": "code",
   "execution_count": 8,
   "metadata": {},
   "outputs": [
    {
     "data": {
      "text/plain": [
       "<matplotlib.axes._subplots.AxesSubplot at 0x266b12dec48>"
      ]
     },
     "execution_count": 8,
     "metadata": {},
     "output_type": "execute_result"
    },
    {
     "data": {
      "image/png": "[encoded data removed]",
      "text/plain": [
       "<Figure size 432x288 with 2 Axes>"
      ]
     },
     "metadata": {
      "needs_background": "light"
     },
     "output_type": "display_data"
    }
   ],
   "source": [
    "# Creating a heat map of the dataset to further visualize the correlations\n",
    "sns.heatmap(tech.corr(), annot=True, fmt='.2F')"
   ]
  },
  {
   "cell_type": "code",
   "execution_count": 9,
   "metadata": {},
   "outputs": [
    {
     "name": "stderr",
     "output_type": "stream",
     "text": [
      "C:\\Users\\ralaa\\Anaconda3\\lib\\site-packages\\numpy\\lib\\histograms.py:824: RuntimeWarning: invalid value encountered in greater_equal\n",
      "  keep = (tmp_a >= first_edge)\n",
      "C:\\Users\\ralaa\\Anaconda3\\lib\\site-packages\\numpy\\lib\\histograms.py:825: RuntimeWarning: invalid value encountered in less_equal\n",
      "  keep &= (tmp_a <= last_edge)\n"
     ]
    },
    {
     "data": {
      "text/plain": [
       "<seaborn.axisgrid.PairGrid at 0x266b2621108>"
      ]
     },
     "execution_count": 9,
     "metadata": {},
     "output_type": "execute_result"
    },
    {
     "data": {
      "image/png": "[encoded data removed]",
      "text/plain": [
       "<Figure size 1080x1080 with 42 Axes>"
      ]
     },
     "metadata": {
      "needs_background": "light"
     },
     "output_type": "display_data"
    }
   ],
   "source": [
    "# Creating a pair plot of the dataset to find out if there are any interesting findings\n",
    "sns.pairplot(tech)"
   ]
  },
  {
   "cell_type": "code",
   "execution_count": null,
   "metadata": {},
   "outputs": [],
   "source": []
  },
  {
   "cell_type": "markdown",
   "metadata": {},
   "source": [
    "### Findings"
   ]
  },
  {
   "cell_type": "markdown",
   "metadata": {},
   "source": [
    "- Findings based on the EDA"
   ]
  },
  {
   "cell_type": "markdown",
   "metadata": {},
   "source": [
    "### 2.2 Machine Learning: K-means\n"
   ]
  },
  {
   "cell_type": "code",
   "execution_count": 10,
   "metadata": {},
   "outputs": [],
   "source": [
    "# Machine Learning"
   ]
  },
  {
   "cell_type": "markdown",
   "metadata": {},
   "source": [
    "## 3. Explanation of the Approach\n"
   ]
  },
  {
   "cell_type": "code",
   "execution_count": null,
   "metadata": {},
   "outputs": [],
   "source": []
  },
  {
   "cell_type": "markdown",
   "metadata": {},
   "source": [
    "## 4. Analysis\n"
   ]
  },
  {
   "cell_type": "code",
   "execution_count": null,
   "metadata": {},
   "outputs": [],
   "source": []
  },
  {
   "cell_type": "markdown",
   "metadata": {},
   "source": [
    "## 5. Summary of the Analysis\n"
   ]
  },
  {
   "cell_type": "code",
   "execution_count": null,
   "metadata": {},
   "outputs": [],
   "source": []
  },
  {
   "cell_type": "markdown",
   "metadata": {},
   "source": [
    "## 6. Conclusions\n"
   ]
  },
  {
   "cell_type": "code",
   "execution_count": null,
   "metadata": {},
   "outputs": [],
   "source": []
  },
  {
   "cell_type": "markdown",
   "metadata": {},
   "source": [
    "## 7. References\n"
   ]
  },
  {
   "cell_type": "code",
   "execution_count": null,
   "metadata": {},
   "outputs": [],
   "source": []
  },
  {
   "cell_type": "markdown",
   "metadata": {},
   "source": [
    "## 8. (Optional) Afterword\n",
    "Afterword and thanks"
   ]
  },
  {
   "cell_type": "code",
   "execution_count": null,
   "metadata": {},
   "outputs": [],
   "source": []
  }
 ],
 "metadata": {
  "kernelspec": {
   "display_name": "Python 3",
   "language": "python",
   "name": "python3"
  },
  "language_info": {
   "codemirror_mode": {
    "name": "ipython",
    "version": 3
   },
   "file_extension": ".py",
   "mimetype": "text/x-python",
   "name": "python",
   "nbconvert_exporter": "python",
   "pygments_lexer": "ipython3",
   "version": "3.7.4"
  }
 },
 "nbformat": 4,
 "nbformat_minor": 2
}
