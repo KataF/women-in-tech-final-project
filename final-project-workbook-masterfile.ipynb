{
 "cells": [
  {
   "cell_type": "markdown",
   "metadata": {},
   "source": [
    "# Final Project\n",
    "\n",
    "## Python for Data Analysis Training Program\n",
    "\n",
    "Written by Team \"Diversity-in-Tech\" in March-April 2020"
   ]
  },
  {
   "cell_type": "markdown",
   "metadata": {},
   "source": [
    "## 1. Introduction\n",
    "\n",
    "_Instructions from Final_Project.pdf:_\n",
    "- Introduces the reader to the topic and the broad context within which your project fits\n",
    "- What do you hope to learn from the project?\n",
    "- What question is being addressed?\n",
    "- Why is this important? (motivation)"
   ]
  },
  {
   "cell_type": "markdown",
   "metadata": {},
   "source": [
    "## 2. Dataset\n",
    "\n",
    "_Instructions from Final_Project.pdf:_\n",
    "- Briefly describe your data\n",
    "\n",
    "The dataset can be found at: https://github.com/tarasiegel/women-in-tech/raw/master/data/companies.csv"
   ]
  },
  {
   "cell_type": "markdown",
   "metadata": {},
   "source": [
    "## 3. Preprocessing\n",
    "\n",
    "_Instructions from Final_Project.pdf:_\n",
    "- Explain your whole approach"
   ]
  },
  {
   "cell_type": "markdown",
   "metadata": {},
   "source": [
    "### 3.1 Preparing the Dataset"
   ]
  },
  {
   "cell_type": "code",
   "execution_count": 1,
   "metadata": {},
   "outputs": [],
   "source": [
    "# Importing libraries\n",
    "import numpy as np\n",
    "import pandas as pd\n",
    "import matplotlib.pyplot as plt\n",
    "import seaborn as sns"
   ]
  },
  {
   "cell_type": "code",
   "execution_count": 2,
   "metadata": {},
   "outputs": [],
   "source": [
    "# Getting the CSV file\n",
    "url_tech = 'https://github.com/tarasiegel/women-in-tech/raw/master/data/companies.csv'"
   ]
  },
  {
   "cell_type": "code",
   "execution_count": 3,
   "metadata": {},
   "outputs": [],
   "source": [
    "# Reading the file\n",
    "tech = pd.read_csv(url_tech, index_col=[0])"
   ]
  },
  {
   "cell_type": "code",
   "execution_count": 4,
   "metadata": {},
   "outputs": [
    {
     "data": {
      "text/html": [
       "<div>\n",
       "<style scoped>\n",
       "    .dataframe tbody tr th:only-of-type {\n",
       "        vertical-align: middle;\n",
       "    }\n",
       "\n",
       "    .dataframe tbody tr th {\n",
       "        vertical-align: top;\n",
       "    }\n",
       "\n",
       "    .dataframe thead th {\n",
       "        text-align: right;\n",
       "    }\n",
       "</style>\n",
       "<table border=\"1\" class=\"dataframe\">\n",
       "  <thead>\n",
       "    <tr style=\"text-align: right;\">\n",
       "      <th></th>\n",
       "      <th>Company</th>\n",
       "      <th>Num. of Female Engineers</th>\n",
       "      <th>male_eng</th>\n",
       "      <th>Total Engineers</th>\n",
       "      <th>Percent Female Engineers</th>\n",
       "      <th>Total Employees</th>\n",
       "      <th>Location</th>\n",
       "      <th>Funding (Mil)</th>\n",
       "      <th>Category</th>\n",
       "      <th>Website</th>\n",
       "      <th>grace_hopper</th>\n",
       "    </tr>\n",
       "    <tr>\n",
       "      <th>key</th>\n",
       "      <th></th>\n",
       "      <th></th>\n",
       "      <th></th>\n",
       "      <th></th>\n",
       "      <th></th>\n",
       "      <th></th>\n",
       "      <th></th>\n",
       "      <th></th>\n",
       "      <th></th>\n",
       "      <th></th>\n",
       "      <th></th>\n",
       "    </tr>\n",
       "  </thead>\n",
       "  <tbody>\n",
       "    <tr>\n",
       "      <td>37signals</td>\n",
       "      <td>37signals</td>\n",
       "      <td>0</td>\n",
       "      <td>20</td>\n",
       "      <td>20</td>\n",
       "      <td>0.00</td>\n",
       "      <td>20.0</td>\n",
       "      <td>IL</td>\n",
       "      <td>0.00</td>\n",
       "      <td>Software</td>\n",
       "      <td>http://www.37signals.com</td>\n",
       "      <td>NaN</td>\n",
       "    </tr>\n",
       "    <tr>\n",
       "      <td>7digital</td>\n",
       "      <td>7digital</td>\n",
       "      <td>1</td>\n",
       "      <td>20</td>\n",
       "      <td>21</td>\n",
       "      <td>4.76</td>\n",
       "      <td>120.0</td>\n",
       "      <td>London</td>\n",
       "      <td>18.50</td>\n",
       "      <td>Consumer Web</td>\n",
       "      <td>http://www.7digital.com</td>\n",
       "      <td>NaN</td>\n",
       "    </tr>\n",
       "    <tr>\n",
       "      <td>activision</td>\n",
       "      <td>Activision</td>\n",
       "      <td>1</td>\n",
       "      <td>29</td>\n",
       "      <td>30</td>\n",
       "      <td>3.33</td>\n",
       "      <td>706.0</td>\n",
       "      <td>CA</td>\n",
       "      <td>0.00</td>\n",
       "      <td>Games/Entertainment</td>\n",
       "      <td>http://www.activison.com</td>\n",
       "      <td>NaN</td>\n",
       "    </tr>\n",
       "    <tr>\n",
       "      <td>adzerk</td>\n",
       "      <td>Adzerk</td>\n",
       "      <td>1</td>\n",
       "      <td>4</td>\n",
       "      <td>5</td>\n",
       "      <td>20.00</td>\n",
       "      <td>9.0</td>\n",
       "      <td>NC</td>\n",
       "      <td>0.65</td>\n",
       "      <td>Advertising</td>\n",
       "      <td>http://www.adzerk.com</td>\n",
       "      <td>NaN</td>\n",
       "    </tr>\n",
       "    <tr>\n",
       "      <td>airbnb</td>\n",
       "      <td>Airbnb</td>\n",
       "      <td>10</td>\n",
       "      <td>66</td>\n",
       "      <td>76</td>\n",
       "      <td>13.16</td>\n",
       "      <td>1324.0</td>\n",
       "      <td>CA</td>\n",
       "      <td>326.00</td>\n",
       "      <td>Consumer Web</td>\n",
       "      <td>http://www.airbnb.com</td>\n",
       "      <td>YES</td>\n",
       "    </tr>\n",
       "  </tbody>\n",
       "</table>\n",
       "</div>"
      ],
      "text/plain": [
       "               Company  Num. of Female Engineers  male_eng  Total Engineers  \\\n",
       "key                                                                           \n",
       "37signals    37signals                         0        20               20   \n",
       "7digital      7digital                         1        20               21   \n",
       "activision  Activision                         1        29               30   \n",
       "adzerk          Adzerk                         1         4                5   \n",
       "airbnb          Airbnb                        10        66               76   \n",
       "\n",
       "            Percent Female Engineers  Total Employees Location  Funding (Mil)  \\\n",
       "key                                                                             \n",
       "37signals                       0.00             20.0       IL           0.00   \n",
       "7digital                        4.76            120.0   London          18.50   \n",
       "activision                      3.33            706.0       CA           0.00   \n",
       "adzerk                         20.00              9.0       NC           0.65   \n",
       "airbnb                         13.16           1324.0       CA         326.00   \n",
       "\n",
       "                       Category                   Website grace_hopper  \n",
       "key                                                                     \n",
       "37signals              Software  http://www.37signals.com          NaN  \n",
       "7digital           Consumer Web   http://www.7digital.com          NaN  \n",
       "activision  Games/Entertainment  http://www.activison.com          NaN  \n",
       "adzerk              Advertising     http://www.adzerk.com          NaN  \n",
       "airbnb             Consumer Web     http://www.airbnb.com          YES  "
      ]
     },
     "execution_count": 4,
     "metadata": {},
     "output_type": "execute_result"
    }
   ],
   "source": [
    "# Checking the contents\n",
    "tech.head()"
   ]
  },
  {
   "cell_type": "code",
   "execution_count": 5,
   "metadata": {},
   "outputs": [
    {
     "name": "stdout",
     "output_type": "stream",
     "text": [
      "<class 'pandas.core.frame.DataFrame'>\n",
      "Index: 122 entries, 37signals to zerocater\n",
      "Data columns (total 11 columns):\n",
      "Company                     122 non-null object\n",
      "Num. of Female Engineers    122 non-null int64\n",
      "male_eng                    122 non-null int64\n",
      "Total Engineers             122 non-null int64\n",
      "Percent Female Engineers    122 non-null float64\n",
      "Total Employees             121 non-null float64\n",
      "Location                    120 non-null object\n",
      "Funding (Mil)               121 non-null float64\n",
      "Category                    121 non-null object\n",
      "Website                     121 non-null object\n",
      "grace_hopper                9 non-null object\n",
      "dtypes: float64(3), int64(3), object(5)\n",
      "memory usage: 11.4+ KB\n"
     ]
    }
   ],
   "source": [
    "tech.info()"
   ]
  },
  {
   "cell_type": "code",
   "execution_count": 6,
   "metadata": {},
   "outputs": [
    {
     "data": {
      "text/plain": [
       "(122, 11)"
      ]
     },
     "execution_count": 6,
     "metadata": {},
     "output_type": "execute_result"
    }
   ],
   "source": [
    "tech.shape"
   ]
  },
  {
   "cell_type": "code",
   "execution_count": 7,
   "metadata": {},
   "outputs": [
    {
     "data": {
      "text/html": [
       "<div>\n",
       "<style scoped>\n",
       "    .dataframe tbody tr th:only-of-type {\n",
       "        vertical-align: middle;\n",
       "    }\n",
       "\n",
       "    .dataframe tbody tr th {\n",
       "        vertical-align: top;\n",
       "    }\n",
       "\n",
       "    .dataframe thead th {\n",
       "        text-align: right;\n",
       "    }\n",
       "</style>\n",
       "<table border=\"1\" class=\"dataframe\">\n",
       "  <thead>\n",
       "    <tr style=\"text-align: right;\">\n",
       "      <th></th>\n",
       "      <th>Num. of Female Engineers</th>\n",
       "      <th>male_eng</th>\n",
       "      <th>Total Engineers</th>\n",
       "      <th>Percent Female Engineers</th>\n",
       "      <th>Total Employees</th>\n",
       "      <th>Funding (Mil)</th>\n",
       "    </tr>\n",
       "  </thead>\n",
       "  <tbody>\n",
       "    <tr>\n",
       "      <td>count</td>\n",
       "      <td>122.000000</td>\n",
       "      <td>122.000000</td>\n",
       "      <td>122.000000</td>\n",
       "      <td>122.000000</td>\n",
       "      <td>121.000000</td>\n",
       "      <td>121.000000</td>\n",
       "    </tr>\n",
       "    <tr>\n",
       "      <td>mean</td>\n",
       "      <td>8.819672</td>\n",
       "      <td>62.795082</td>\n",
       "      <td>71.614754</td>\n",
       "      <td>16.571885</td>\n",
       "      <td>296.752066</td>\n",
       "      <td>78.820529</td>\n",
       "    </tr>\n",
       "    <tr>\n",
       "      <td>std</td>\n",
       "      <td>50.035032</td>\n",
       "      <td>355.165005</td>\n",
       "      <td>405.057009</td>\n",
       "      <td>16.678773</td>\n",
       "      <td>1535.100981</td>\n",
       "      <td>422.906491</td>\n",
       "    </tr>\n",
       "    <tr>\n",
       "      <td>min</td>\n",
       "      <td>0.000000</td>\n",
       "      <td>0.000000</td>\n",
       "      <td>1.000000</td>\n",
       "      <td>0.000000</td>\n",
       "      <td>4.000000</td>\n",
       "      <td>0.000000</td>\n",
       "    </tr>\n",
       "    <tr>\n",
       "      <td>25%</td>\n",
       "      <td>1.000000</td>\n",
       "      <td>6.000000</td>\n",
       "      <td>7.000000</td>\n",
       "      <td>6.260000</td>\n",
       "      <td>25.000000</td>\n",
       "      <td>0.650000</td>\n",
       "    </tr>\n",
       "    <tr>\n",
       "      <td>50%</td>\n",
       "      <td>2.000000</td>\n",
       "      <td>16.000000</td>\n",
       "      <td>18.500000</td>\n",
       "      <td>13.535000</td>\n",
       "      <td>66.000000</td>\n",
       "      <td>10.500000</td>\n",
       "    </tr>\n",
       "    <tr>\n",
       "      <td>75%</td>\n",
       "      <td>5.000000</td>\n",
       "      <td>29.000000</td>\n",
       "      <td>34.250000</td>\n",
       "      <td>21.072500</td>\n",
       "      <td>162.000000</td>\n",
       "      <td>31.200000</td>\n",
       "    </tr>\n",
       "    <tr>\n",
       "      <td>max</td>\n",
       "      <td>553.000000</td>\n",
       "      <td>3907.000000</td>\n",
       "      <td>4460.000000</td>\n",
       "      <td>100.000000</td>\n",
       "      <td>16779.000000</td>\n",
       "      <td>4596.067000</td>\n",
       "    </tr>\n",
       "  </tbody>\n",
       "</table>\n",
       "</div>"
      ],
      "text/plain": [
       "       Num. of Female Engineers     male_eng  Total Engineers  \\\n",
       "count                122.000000   122.000000       122.000000   \n",
       "mean                   8.819672    62.795082        71.614754   \n",
       "std                   50.035032   355.165005       405.057009   \n",
       "min                    0.000000     0.000000         1.000000   \n",
       "25%                    1.000000     6.000000         7.000000   \n",
       "50%                    2.000000    16.000000        18.500000   \n",
       "75%                    5.000000    29.000000        34.250000   \n",
       "max                  553.000000  3907.000000      4460.000000   \n",
       "\n",
       "       Percent Female Engineers  Total Employees  Funding (Mil)  \n",
       "count                122.000000       121.000000     121.000000  \n",
       "mean                  16.571885       296.752066      78.820529  \n",
       "std                   16.678773      1535.100981     422.906491  \n",
       "min                    0.000000         4.000000       0.000000  \n",
       "25%                    6.260000        25.000000       0.650000  \n",
       "50%                   13.535000        66.000000      10.500000  \n",
       "75%                   21.072500       162.000000      31.200000  \n",
       "max                  100.000000     16779.000000    4596.067000  "
      ]
     },
     "execution_count": 7,
     "metadata": {},
     "output_type": "execute_result"
    }
   ],
   "source": [
    "# Describing the dataset\n",
    "tech.describe()"
   ]
  },
  {
   "cell_type": "markdown",
   "metadata": {},
   "source": [
    "### 3.2 Data Cleaning"
   ]
  },
  {
   "cell_type": "markdown",
   "metadata": {},
   "source": [
    "In this section the unnecessary columns and a sum row are dropped. Some columns are also renamed to improve the data's usability. The dataframe's contents are made uniform as well. "
   ]
  },
  {
   "cell_type": "code",
   "execution_count": 8,
   "metadata": {},
   "outputs": [],
   "source": [
    "# Drop unnecessary columns off\n",
    "tech = tech.drop(columns=['Website'])\n",
    "tech = tech.drop(columns=['grace_hopper'])"
   ]
  },
  {
   "cell_type": "code",
   "execution_count": 9,
   "metadata": {},
   "outputs": [],
   "source": [
    "# Renaming columns\n",
    "tech = tech.rename(columns = {\"Num. of Female Engineers\": \"female_eng\", \"Total Engineers\": \"total_eng\", \"Percent Female Engineers\": \"PC_female_eng\", \"Total Employees\": \"total_employees\", \"Funding (Mil)\": \"funding_Mil\"})"
   ]
  },
  {
   "cell_type": "code",
   "execution_count": 10,
   "metadata": {},
   "outputs": [
    {
     "data": {
      "text/plain": [
       "Company            0\n",
       "female_eng         0\n",
       "male_eng           0\n",
       "total_eng          0\n",
       "PC_female_eng      0\n",
       "total_employees    1\n",
       "Location           2\n",
       "funding_Mil        1\n",
       "Category           1\n",
       "dtype: int64"
      ]
     },
     "execution_count": 10,
     "metadata": {},
     "output_type": "execute_result"
    }
   ],
   "source": [
    "# Check NaN items\n",
    "tech.isnull().sum()"
   ]
  },
  {
   "cell_type": "code",
   "execution_count": 11,
   "metadata": {},
   "outputs": [],
   "source": [
    "# Dropping row 'ALL' from 'Company'\n",
    "tech = tech[tech['Company'] != 'ALL']"
   ]
  },
  {
   "cell_type": "code",
   "execution_count": 12,
   "metadata": {},
   "outputs": [],
   "source": [
    "# Fillling 'null' with '0' in column total_employees\n",
    "tech.total_employees=tech['total_employees'].fillna(0)"
   ]
  },
  {
   "cell_type": "code",
   "execution_count": 13,
   "metadata": {},
   "outputs": [],
   "source": [
    "# Filling 'null' with '0' in column 'Location'\n",
    "tech.Location=tech['Location'].fillna(0)"
   ]
  },
  {
   "cell_type": "code",
   "execution_count": 14,
   "metadata": {},
   "outputs": [],
   "source": [
    "# Filling 'null' with '0' in column funding_Mil\n",
    "tech.funding_Mil=tech['funding_Mil'].fillna(0)"
   ]
  },
  {
   "cell_type": "code",
   "execution_count": 15,
   "metadata": {},
   "outputs": [
    {
     "name": "stdout",
     "output_type": "stream",
     "text": [
      "<class 'pandas.core.frame.DataFrame'>\n",
      "Index: 121 entries, 37signals to zerocater\n",
      "Data columns (total 9 columns):\n",
      "Company            121 non-null object\n",
      "female_eng         121 non-null int64\n",
      "male_eng           121 non-null int64\n",
      "total_eng          121 non-null int64\n",
      "PC_female_eng      121 non-null float64\n",
      "total_employees    121 non-null float64\n",
      "Location           121 non-null object\n",
      "funding_Mil        121 non-null float64\n",
      "Category           121 non-null object\n",
      "dtypes: float64(3), int64(3), object(3)\n",
      "memory usage: 9.5+ KB\n"
     ]
    }
   ],
   "source": [
    "tech.info()"
   ]
  },
  {
   "cell_type": "code",
   "execution_count": 16,
   "metadata": {},
   "outputs": [
    {
     "data": {
      "text/plain": [
       "array(['Software', 'Consumer Web', 'Games/Entertainment', 'Advertising',\n",
       "       'Charity/Nonprofit', 'Health/CleanTech', 'Mobile/Wireless',\n",
       "       'Education', 'Consulting', 'eCommerce/Fashion', 'Enterprise',\n",
       "       'News/Media', 'Social Networking', 'Finance/Venture',\n",
       "       'Analytics/Big Data', 'Hardware'], dtype=object)"
      ]
     },
     "execution_count": 16,
     "metadata": {},
     "output_type": "execute_result"
    }
   ],
   "source": [
    "tech['Category'].unique()"
   ]
  },
  {
   "cell_type": "code",
   "execution_count": 17,
   "metadata": {},
   "outputs": [
    {
     "data": {
      "text/plain": [
       "Company            0\n",
       "female_eng         0\n",
       "male_eng           0\n",
       "total_eng          0\n",
       "PC_female_eng      0\n",
       "total_employees    0\n",
       "Location           0\n",
       "funding_Mil        0\n",
       "Category           0\n",
       "dtype: int64"
      ]
     },
     "execution_count": 17,
     "metadata": {},
     "output_type": "execute_result"
    }
   ],
   "source": [
    "tech.isnull().sum()"
   ]
  },
  {
   "cell_type": "markdown",
   "metadata": {},
   "source": [
    "### 3.3 Exploratory Data Analysis"
   ]
  },
  {
   "cell_type": "markdown",
   "metadata": {},
   "source": [
    "In this section we use Exploratory Data Analysis (EDA) to look for interesting findings. "
   ]
  },
  {
   "cell_type": "code",
   "execution_count": 18,
   "metadata": {},
   "outputs": [
    {
     "data": {
      "text/plain": [
       "(121, 9)"
      ]
     },
     "execution_count": 18,
     "metadata": {},
     "output_type": "execute_result"
    }
   ],
   "source": [
    "tech.shape"
   ]
  },
  {
   "cell_type": "code",
   "execution_count": 19,
   "metadata": {},
   "outputs": [
    {
     "data": {
      "text/plain": [
       "16"
      ]
     },
     "execution_count": 19,
     "metadata": {},
     "output_type": "execute_result"
    }
   ],
   "source": [
    "tech['Category'].unique()\n",
    "len(tech['Category'].unique())"
   ]
  },
  {
   "cell_type": "code",
   "execution_count": 20,
   "metadata": {},
   "outputs": [
    {
     "data": {
      "text/plain": [
       "Company            37signals\n",
       "female_eng                 0\n",
       "male_eng                  20\n",
       "total_eng                 20\n",
       "PC_female_eng              0\n",
       "total_employees           20\n",
       "Location                  IL\n",
       "funding_Mil                0\n",
       "Category            Software\n",
       "Name: 37signals, dtype: object"
      ]
     },
     "execution_count": 20,
     "metadata": {},
     "output_type": "execute_result"
    }
   ],
   "source": [
    "tech.iloc[0]"
   ]
  },
  {
   "cell_type": "code",
   "execution_count": 21,
   "metadata": {},
   "outputs": [
    {
     "data": {
      "text/plain": [
       "<pandas.core.groupby.generic.DataFrameGroupBy object at 0x0000011CE12F64C8>"
      ]
     },
     "execution_count": 21,
     "metadata": {},
     "output_type": "execute_result"
    }
   ],
   "source": [
    "# Checking what kind of categories there are\n",
    "gb_tech = tech.groupby('Category')\n",
    "gb_tech"
   ]
  },
  {
   "cell_type": "code",
   "execution_count": 22,
   "metadata": {},
   "outputs": [
    {
     "data": {
      "text/html": [
       "<div>\n",
       "<style scoped>\n",
       "    .dataframe tbody tr th:only-of-type {\n",
       "        vertical-align: middle;\n",
       "    }\n",
       "\n",
       "    .dataframe tbody tr th {\n",
       "        vertical-align: top;\n",
       "    }\n",
       "\n",
       "    .dataframe thead th {\n",
       "        text-align: right;\n",
       "    }\n",
       "</style>\n",
       "<table border=\"1\" class=\"dataframe\">\n",
       "  <thead>\n",
       "    <tr style=\"text-align: right;\">\n",
       "      <th></th>\n",
       "      <th>female_eng</th>\n",
       "      <th>male_eng</th>\n",
       "      <th>total_eng</th>\n",
       "      <th>total_employees</th>\n",
       "    </tr>\n",
       "    <tr>\n",
       "      <th>Category</th>\n",
       "      <th></th>\n",
       "      <th></th>\n",
       "      <th></th>\n",
       "      <th></th>\n",
       "    </tr>\n",
       "  </thead>\n",
       "  <tbody>\n",
       "    <tr>\n",
       "      <td>Advertising</td>\n",
       "      <td>28</td>\n",
       "      <td>165</td>\n",
       "      <td>193</td>\n",
       "      <td>871.0</td>\n",
       "    </tr>\n",
       "    <tr>\n",
       "      <td>Analytics/Big Data</td>\n",
       "      <td>9</td>\n",
       "      <td>53</td>\n",
       "      <td>62</td>\n",
       "      <td>218.0</td>\n",
       "    </tr>\n",
       "    <tr>\n",
       "      <td>Charity/Nonprofit</td>\n",
       "      <td>9</td>\n",
       "      <td>94</td>\n",
       "      <td>103</td>\n",
       "      <td>266.0</td>\n",
       "    </tr>\n",
       "    <tr>\n",
       "      <td>Consulting</td>\n",
       "      <td>12</td>\n",
       "      <td>62</td>\n",
       "      <td>74</td>\n",
       "      <td>120.0</td>\n",
       "    </tr>\n",
       "    <tr>\n",
       "      <td>Consumer Web</td>\n",
       "      <td>174</td>\n",
       "      <td>1309</td>\n",
       "      <td>1483</td>\n",
       "      <td>6610.0</td>\n",
       "    </tr>\n",
       "    <tr>\n",
       "      <td>Education</td>\n",
       "      <td>20</td>\n",
       "      <td>151</td>\n",
       "      <td>171</td>\n",
       "      <td>865.0</td>\n",
       "    </tr>\n",
       "    <tr>\n",
       "      <td>Enterprise</td>\n",
       "      <td>28</td>\n",
       "      <td>171</td>\n",
       "      <td>199</td>\n",
       "      <td>1010.0</td>\n",
       "    </tr>\n",
       "    <tr>\n",
       "      <td>Finance/Venture</td>\n",
       "      <td>13</td>\n",
       "      <td>55</td>\n",
       "      <td>68</td>\n",
       "      <td>521.0</td>\n",
       "    </tr>\n",
       "    <tr>\n",
       "      <td>Games/Entertainment</td>\n",
       "      <td>1</td>\n",
       "      <td>29</td>\n",
       "      <td>30</td>\n",
       "      <td>706.0</td>\n",
       "    </tr>\n",
       "    <tr>\n",
       "      <td>Hardware</td>\n",
       "      <td>16</td>\n",
       "      <td>264</td>\n",
       "      <td>280</td>\n",
       "      <td>535.0</td>\n",
       "    </tr>\n",
       "    <tr>\n",
       "      <td>Health/CleanTech</td>\n",
       "      <td>21</td>\n",
       "      <td>95</td>\n",
       "      <td>116</td>\n",
       "      <td>667.0</td>\n",
       "    </tr>\n",
       "    <tr>\n",
       "      <td>Mobile/Wireless</td>\n",
       "      <td>14</td>\n",
       "      <td>147</td>\n",
       "      <td>161</td>\n",
       "      <td>525.0</td>\n",
       "    </tr>\n",
       "    <tr>\n",
       "      <td>News/Media</td>\n",
       "      <td>14</td>\n",
       "      <td>97</td>\n",
       "      <td>111</td>\n",
       "      <td>357.0</td>\n",
       "    </tr>\n",
       "    <tr>\n",
       "      <td>Social Networking</td>\n",
       "      <td>33</td>\n",
       "      <td>221</td>\n",
       "      <td>254</td>\n",
       "      <td>1309.0</td>\n",
       "    </tr>\n",
       "    <tr>\n",
       "      <td>Software</td>\n",
       "      <td>93</td>\n",
       "      <td>654</td>\n",
       "      <td>747</td>\n",
       "      <td>3695.0</td>\n",
       "    </tr>\n",
       "    <tr>\n",
       "      <td>eCommerce/Fashion</td>\n",
       "      <td>38</td>\n",
       "      <td>187</td>\n",
       "      <td>225</td>\n",
       "      <td>853.0</td>\n",
       "    </tr>\n",
       "  </tbody>\n",
       "</table>\n",
       "</div>"
      ],
      "text/plain": [
       "                     female_eng  male_eng  total_eng  total_employees\n",
       "Category                                                             \n",
       "Advertising                  28       165        193            871.0\n",
       "Analytics/Big Data            9        53         62            218.0\n",
       "Charity/Nonprofit             9        94        103            266.0\n",
       "Consulting                   12        62         74            120.0\n",
       "Consumer Web                174      1309       1483           6610.0\n",
       "Education                    20       151        171            865.0\n",
       "Enterprise                   28       171        199           1010.0\n",
       "Finance/Venture              13        55         68            521.0\n",
       "Games/Entertainment           1        29         30            706.0\n",
       "Hardware                     16       264        280            535.0\n",
       "Health/CleanTech             21        95        116            667.0\n",
       "Mobile/Wireless              14       147        161            525.0\n",
       "News/Media                   14        97        111            357.0\n",
       "Social Networking            33       221        254           1309.0\n",
       "Software                     93       654        747           3695.0\n",
       "eCommerce/Fashion            38       187        225            853.0"
      ]
     },
     "execution_count": 22,
     "metadata": {},
     "output_type": "execute_result"
    }
   ],
   "source": [
    "gb_tech[['female_eng', 'male_eng', 'total_eng', 'total_employees']].sum()"
   ]
  },
  {
   "cell_type": "code",
   "execution_count": 23,
   "metadata": {},
   "outputs": [
    {
     "data": {
      "text/plain": [
       "(121, 9)"
      ]
     },
     "execution_count": 23,
     "metadata": {},
     "output_type": "execute_result"
    }
   ],
   "source": [
    "tech.shape"
   ]
  },
  {
   "cell_type": "code",
   "execution_count": 24,
   "metadata": {},
   "outputs": [
    {
     "data": {
      "text/html": [
       "<div>\n",
       "<style scoped>\n",
       "    .dataframe tbody tr th:only-of-type {\n",
       "        vertical-align: middle;\n",
       "    }\n",
       "\n",
       "    .dataframe tbody tr th {\n",
       "        vertical-align: top;\n",
       "    }\n",
       "\n",
       "    .dataframe thead th {\n",
       "        text-align: right;\n",
       "    }\n",
       "</style>\n",
       "<table border=\"1\" class=\"dataframe\">\n",
       "  <thead>\n",
       "    <tr style=\"text-align: right;\">\n",
       "      <th></th>\n",
       "      <th>Company</th>\n",
       "      <th>female_eng</th>\n",
       "      <th>male_eng</th>\n",
       "      <th>total_eng</th>\n",
       "      <th>PC_female_eng</th>\n",
       "      <th>total_employees</th>\n",
       "      <th>Location</th>\n",
       "      <th>funding_Mil</th>\n",
       "      <th>Category</th>\n",
       "    </tr>\n",
       "    <tr>\n",
       "      <th>key</th>\n",
       "      <th></th>\n",
       "      <th></th>\n",
       "      <th></th>\n",
       "      <th></th>\n",
       "      <th></th>\n",
       "      <th></th>\n",
       "      <th></th>\n",
       "      <th></th>\n",
       "      <th></th>\n",
       "    </tr>\n",
       "  </thead>\n",
       "  <tbody>\n",
       "    <tr>\n",
       "      <td>37signals</td>\n",
       "      <td>37signals</td>\n",
       "      <td>0</td>\n",
       "      <td>20</td>\n",
       "      <td>20</td>\n",
       "      <td>0.00</td>\n",
       "      <td>20.0</td>\n",
       "      <td>IL</td>\n",
       "      <td>0.00</td>\n",
       "      <td>Software</td>\n",
       "    </tr>\n",
       "    <tr>\n",
       "      <td>7digital</td>\n",
       "      <td>7digital</td>\n",
       "      <td>1</td>\n",
       "      <td>20</td>\n",
       "      <td>21</td>\n",
       "      <td>4.76</td>\n",
       "      <td>120.0</td>\n",
       "      <td>London</td>\n",
       "      <td>18.50</td>\n",
       "      <td>Consumer Web</td>\n",
       "    </tr>\n",
       "    <tr>\n",
       "      <td>activision</td>\n",
       "      <td>Activision</td>\n",
       "      <td>1</td>\n",
       "      <td>29</td>\n",
       "      <td>30</td>\n",
       "      <td>3.33</td>\n",
       "      <td>706.0</td>\n",
       "      <td>CA</td>\n",
       "      <td>0.00</td>\n",
       "      <td>Games/Entertainment</td>\n",
       "    </tr>\n",
       "    <tr>\n",
       "      <td>adzerk</td>\n",
       "      <td>Adzerk</td>\n",
       "      <td>1</td>\n",
       "      <td>4</td>\n",
       "      <td>5</td>\n",
       "      <td>20.00</td>\n",
       "      <td>9.0</td>\n",
       "      <td>NC</td>\n",
       "      <td>0.65</td>\n",
       "      <td>Advertising</td>\n",
       "    </tr>\n",
       "    <tr>\n",
       "      <td>airbnb</td>\n",
       "      <td>Airbnb</td>\n",
       "      <td>10</td>\n",
       "      <td>66</td>\n",
       "      <td>76</td>\n",
       "      <td>13.16</td>\n",
       "      <td>1324.0</td>\n",
       "      <td>CA</td>\n",
       "      <td>326.00</td>\n",
       "      <td>Consumer Web</td>\n",
       "    </tr>\n",
       "    <tr>\n",
       "      <td>...</td>\n",
       "      <td>...</td>\n",
       "      <td>...</td>\n",
       "      <td>...</td>\n",
       "      <td>...</td>\n",
       "      <td>...</td>\n",
       "      <td>...</td>\n",
       "      <td>...</td>\n",
       "      <td>...</td>\n",
       "      <td>...</td>\n",
       "    </tr>\n",
       "    <tr>\n",
       "      <td>wikimedia</td>\n",
       "      <td>Wikimedia Foundation</td>\n",
       "      <td>5</td>\n",
       "      <td>69</td>\n",
       "      <td>74</td>\n",
       "      <td>6.76</td>\n",
       "      <td>143.0</td>\n",
       "      <td>CA</td>\n",
       "      <td>74.00</td>\n",
       "      <td>Charity/Nonprofit</td>\n",
       "    </tr>\n",
       "    <tr>\n",
       "      <td>yellowsmith</td>\n",
       "      <td>Yellowsmith</td>\n",
       "      <td>2</td>\n",
       "      <td>1</td>\n",
       "      <td>3</td>\n",
       "      <td>66.67</td>\n",
       "      <td>5.0</td>\n",
       "      <td>NY</td>\n",
       "      <td>0.85</td>\n",
       "      <td>eCommerce/Fashion</td>\n",
       "    </tr>\n",
       "    <tr>\n",
       "      <td>yelp</td>\n",
       "      <td>Yelp</td>\n",
       "      <td>17</td>\n",
       "      <td>189</td>\n",
       "      <td>206</td>\n",
       "      <td>8.25</td>\n",
       "      <td>1984.0</td>\n",
       "      <td>CA</td>\n",
       "      <td>107.00</td>\n",
       "      <td>Consumer Web</td>\n",
       "    </tr>\n",
       "    <tr>\n",
       "      <td>zendesk</td>\n",
       "      <td>Zendesk</td>\n",
       "      <td>8</td>\n",
       "      <td>37</td>\n",
       "      <td>45</td>\n",
       "      <td>17.78</td>\n",
       "      <td>500.0</td>\n",
       "      <td>CA</td>\n",
       "      <td>85.50</td>\n",
       "      <td>Enterprise</td>\n",
       "    </tr>\n",
       "    <tr>\n",
       "      <td>zerocater</td>\n",
       "      <td>Zerocater</td>\n",
       "      <td>0</td>\n",
       "      <td>2</td>\n",
       "      <td>2</td>\n",
       "      <td>0.00</td>\n",
       "      <td>45.0</td>\n",
       "      <td>CA</td>\n",
       "      <td>1.50</td>\n",
       "      <td>Consumer Web</td>\n",
       "    </tr>\n",
       "  </tbody>\n",
       "</table>\n",
       "<p>121 rows × 9 columns</p>\n",
       "</div>"
      ],
      "text/plain": [
       "                          Company  female_eng  male_eng  total_eng  \\\n",
       "key                                                                  \n",
       "37signals               37signals           0        20         20   \n",
       "7digital                 7digital           1        20         21   \n",
       "activision             Activision           1        29         30   \n",
       "adzerk                     Adzerk           1         4          5   \n",
       "airbnb                     Airbnb          10        66         76   \n",
       "...                           ...         ...       ...        ...   \n",
       "wikimedia    Wikimedia Foundation           5        69         74   \n",
       "yellowsmith           Yellowsmith           2         1          3   \n",
       "yelp                         Yelp          17       189        206   \n",
       "zendesk                   Zendesk           8        37         45   \n",
       "zerocater               Zerocater           0         2          2   \n",
       "\n",
       "             PC_female_eng  total_employees Location  funding_Mil  \\\n",
       "key                                                                 \n",
       "37signals             0.00             20.0       IL         0.00   \n",
       "7digital              4.76            120.0   London        18.50   \n",
       "activision            3.33            706.0       CA         0.00   \n",
       "adzerk               20.00              9.0       NC         0.65   \n",
       "airbnb               13.16           1324.0       CA       326.00   \n",
       "...                    ...              ...      ...          ...   \n",
       "wikimedia             6.76            143.0       CA        74.00   \n",
       "yellowsmith          66.67              5.0       NY         0.85   \n",
       "yelp                  8.25           1984.0       CA       107.00   \n",
       "zendesk              17.78            500.0       CA        85.50   \n",
       "zerocater             0.00             45.0       CA         1.50   \n",
       "\n",
       "                        Category  \n",
       "key                               \n",
       "37signals               Software  \n",
       "7digital            Consumer Web  \n",
       "activision   Games/Entertainment  \n",
       "adzerk               Advertising  \n",
       "airbnb              Consumer Web  \n",
       "...                          ...  \n",
       "wikimedia      Charity/Nonprofit  \n",
       "yellowsmith    eCommerce/Fashion  \n",
       "yelp                Consumer Web  \n",
       "zendesk               Enterprise  \n",
       "zerocater           Consumer Web  \n",
       "\n",
       "[121 rows x 9 columns]"
      ]
     },
     "execution_count": 24,
     "metadata": {},
     "output_type": "execute_result"
    }
   ],
   "source": [
    "# Rounding upto 2 points after decimal\n",
    "tech.round({\"funding_Mil\":2})"
   ]
  },
  {
   "cell_type": "code",
   "execution_count": 25,
   "metadata": {},
   "outputs": [
    {
     "data": {
      "text/html": [
       "<div>\n",
       "<style scoped>\n",
       "    .dataframe tbody tr th:only-of-type {\n",
       "        vertical-align: middle;\n",
       "    }\n",
       "\n",
       "    .dataframe tbody tr th {\n",
       "        vertical-align: top;\n",
       "    }\n",
       "\n",
       "    .dataframe thead th {\n",
       "        text-align: right;\n",
       "    }\n",
       "</style>\n",
       "<table border=\"1\" class=\"dataframe\">\n",
       "  <thead>\n",
       "    <tr style=\"text-align: right;\">\n",
       "      <th></th>\n",
       "      <th>Company</th>\n",
       "      <th>female_eng</th>\n",
       "      <th>male_eng</th>\n",
       "      <th>total_eng</th>\n",
       "      <th>PC_female_eng</th>\n",
       "      <th>total_employees</th>\n",
       "      <th>Location</th>\n",
       "      <th>funding_Mil</th>\n",
       "      <th>Category</th>\n",
       "    </tr>\n",
       "  </thead>\n",
       "  <tbody>\n",
       "    <tr>\n",
       "      <td>0</td>\n",
       "      <td>37signals</td>\n",
       "      <td>0</td>\n",
       "      <td>20</td>\n",
       "      <td>20</td>\n",
       "      <td>0.00</td>\n",
       "      <td>20.0</td>\n",
       "      <td>IL</td>\n",
       "      <td>0.00</td>\n",
       "      <td>Software</td>\n",
       "    </tr>\n",
       "    <tr>\n",
       "      <td>1</td>\n",
       "      <td>7digital</td>\n",
       "      <td>1</td>\n",
       "      <td>20</td>\n",
       "      <td>21</td>\n",
       "      <td>4.76</td>\n",
       "      <td>120.0</td>\n",
       "      <td>London</td>\n",
       "      <td>18.50</td>\n",
       "      <td>Consumer Web</td>\n",
       "    </tr>\n",
       "    <tr>\n",
       "      <td>2</td>\n",
       "      <td>Activision</td>\n",
       "      <td>1</td>\n",
       "      <td>29</td>\n",
       "      <td>30</td>\n",
       "      <td>3.33</td>\n",
       "      <td>706.0</td>\n",
       "      <td>CA</td>\n",
       "      <td>0.00</td>\n",
       "      <td>Games/Entertainment</td>\n",
       "    </tr>\n",
       "    <tr>\n",
       "      <td>3</td>\n",
       "      <td>Adzerk</td>\n",
       "      <td>1</td>\n",
       "      <td>4</td>\n",
       "      <td>5</td>\n",
       "      <td>20.00</td>\n",
       "      <td>9.0</td>\n",
       "      <td>NC</td>\n",
       "      <td>0.65</td>\n",
       "      <td>Advertising</td>\n",
       "    </tr>\n",
       "    <tr>\n",
       "      <td>4</td>\n",
       "      <td>Airbnb</td>\n",
       "      <td>10</td>\n",
       "      <td>66</td>\n",
       "      <td>76</td>\n",
       "      <td>13.16</td>\n",
       "      <td>1324.0</td>\n",
       "      <td>CA</td>\n",
       "      <td>326.00</td>\n",
       "      <td>Consumer Web</td>\n",
       "    </tr>\n",
       "    <tr>\n",
       "      <td>...</td>\n",
       "      <td>...</td>\n",
       "      <td>...</td>\n",
       "      <td>...</td>\n",
       "      <td>...</td>\n",
       "      <td>...</td>\n",
       "      <td>...</td>\n",
       "      <td>...</td>\n",
       "      <td>...</td>\n",
       "      <td>...</td>\n",
       "    </tr>\n",
       "    <tr>\n",
       "      <td>116</td>\n",
       "      <td>Wikimedia Foundation</td>\n",
       "      <td>5</td>\n",
       "      <td>69</td>\n",
       "      <td>74</td>\n",
       "      <td>6.76</td>\n",
       "      <td>143.0</td>\n",
       "      <td>CA</td>\n",
       "      <td>74.00</td>\n",
       "      <td>Charity/Nonprofit</td>\n",
       "    </tr>\n",
       "    <tr>\n",
       "      <td>117</td>\n",
       "      <td>Yellowsmith</td>\n",
       "      <td>2</td>\n",
       "      <td>1</td>\n",
       "      <td>3</td>\n",
       "      <td>66.67</td>\n",
       "      <td>5.0</td>\n",
       "      <td>NY</td>\n",
       "      <td>0.85</td>\n",
       "      <td>eCommerce/Fashion</td>\n",
       "    </tr>\n",
       "    <tr>\n",
       "      <td>118</td>\n",
       "      <td>Yelp</td>\n",
       "      <td>17</td>\n",
       "      <td>189</td>\n",
       "      <td>206</td>\n",
       "      <td>8.25</td>\n",
       "      <td>1984.0</td>\n",
       "      <td>CA</td>\n",
       "      <td>107.00</td>\n",
       "      <td>Consumer Web</td>\n",
       "    </tr>\n",
       "    <tr>\n",
       "      <td>119</td>\n",
       "      <td>Zendesk</td>\n",
       "      <td>8</td>\n",
       "      <td>37</td>\n",
       "      <td>45</td>\n",
       "      <td>17.78</td>\n",
       "      <td>500.0</td>\n",
       "      <td>CA</td>\n",
       "      <td>85.50</td>\n",
       "      <td>Enterprise</td>\n",
       "    </tr>\n",
       "    <tr>\n",
       "      <td>120</td>\n",
       "      <td>Zerocater</td>\n",
       "      <td>0</td>\n",
       "      <td>2</td>\n",
       "      <td>2</td>\n",
       "      <td>0.00</td>\n",
       "      <td>45.0</td>\n",
       "      <td>CA</td>\n",
       "      <td>1.50</td>\n",
       "      <td>Consumer Web</td>\n",
       "    </tr>\n",
       "  </tbody>\n",
       "</table>\n",
       "<p>121 rows × 9 columns</p>\n",
       "</div>"
      ],
      "text/plain": [
       "                  Company  female_eng  male_eng  total_eng  PC_female_eng  \\\n",
       "0               37signals           0        20         20           0.00   \n",
       "1                7digital           1        20         21           4.76   \n",
       "2              Activision           1        29         30           3.33   \n",
       "3                  Adzerk           1         4          5          20.00   \n",
       "4                  Airbnb          10        66         76          13.16   \n",
       "..                    ...         ...       ...        ...            ...   \n",
       "116  Wikimedia Foundation           5        69         74           6.76   \n",
       "117           Yellowsmith           2         1          3          66.67   \n",
       "118                  Yelp          17       189        206           8.25   \n",
       "119               Zendesk           8        37         45          17.78   \n",
       "120             Zerocater           0         2          2           0.00   \n",
       "\n",
       "     total_employees Location  funding_Mil             Category  \n",
       "0               20.0       IL         0.00             Software  \n",
       "1              120.0   London        18.50         Consumer Web  \n",
       "2              706.0       CA         0.00  Games/Entertainment  \n",
       "3                9.0       NC         0.65          Advertising  \n",
       "4             1324.0       CA       326.00         Consumer Web  \n",
       "..               ...      ...          ...                  ...  \n",
       "116            143.0       CA        74.00    Charity/Nonprofit  \n",
       "117              5.0       NY         0.85    eCommerce/Fashion  \n",
       "118           1984.0       CA       107.00         Consumer Web  \n",
       "119            500.0       CA        85.50           Enterprise  \n",
       "120             45.0       CA         1.50         Consumer Web  \n",
       "\n",
       "[121 rows x 9 columns]"
      ]
     },
     "execution_count": 25,
     "metadata": {},
     "output_type": "execute_result"
    }
   ],
   "source": [
    "# Resetting Index\n",
    "tech.reset_index(drop=True, inplace=True)\n",
    "\n",
    "tech"
   ]
  },
  {
   "cell_type": "markdown",
   "metadata": {},
   "source": [
    "### Correlations and Findings"
   ]
  },
  {
   "cell_type": "code",
   "execution_count": 26,
   "metadata": {},
   "outputs": [
    {
     "data": {
      "text/html": [
       "<div>\n",
       "<style scoped>\n",
       "    .dataframe tbody tr th:only-of-type {\n",
       "        vertical-align: middle;\n",
       "    }\n",
       "\n",
       "    .dataframe tbody tr th {\n",
       "        vertical-align: top;\n",
       "    }\n",
       "\n",
       "    .dataframe thead th {\n",
       "        text-align: right;\n",
       "    }\n",
       "</style>\n",
       "<table border=\"1\" class=\"dataframe\">\n",
       "  <thead>\n",
       "    <tr style=\"text-align: right;\">\n",
       "      <th></th>\n",
       "      <th>female_eng</th>\n",
       "      <th>male_eng</th>\n",
       "      <th>total_eng</th>\n",
       "      <th>PC_female_eng</th>\n",
       "      <th>total_employees</th>\n",
       "      <th>funding_Mil</th>\n",
       "    </tr>\n",
       "  </thead>\n",
       "  <tbody>\n",
       "    <tr>\n",
       "      <td>female_eng</td>\n",
       "      <td>1.000000</td>\n",
       "      <td>0.856307</td>\n",
       "      <td>0.881807</td>\n",
       "      <td>0.041245</td>\n",
       "      <td>0.589861</td>\n",
       "      <td>0.317234</td>\n",
       "    </tr>\n",
       "    <tr>\n",
       "      <td>male_eng</td>\n",
       "      <td>0.856307</td>\n",
       "      <td>1.000000</td>\n",
       "      <td>0.998669</td>\n",
       "      <td>-0.173917</td>\n",
       "      <td>0.606778</td>\n",
       "      <td>0.286541</td>\n",
       "    </tr>\n",
       "    <tr>\n",
       "      <td>total_eng</td>\n",
       "      <td>0.881807</td>\n",
       "      <td>0.998669</td>\n",
       "      <td>1.000000</td>\n",
       "      <td>-0.154693</td>\n",
       "      <td>0.612988</td>\n",
       "      <td>0.293338</td>\n",
       "    </tr>\n",
       "    <tr>\n",
       "      <td>PC_female_eng</td>\n",
       "      <td>0.041245</td>\n",
       "      <td>-0.173917</td>\n",
       "      <td>-0.154693</td>\n",
       "      <td>1.000000</td>\n",
       "      <td>-0.120892</td>\n",
       "      <td>-0.103769</td>\n",
       "    </tr>\n",
       "    <tr>\n",
       "      <td>total_employees</td>\n",
       "      <td>0.589861</td>\n",
       "      <td>0.606778</td>\n",
       "      <td>0.612988</td>\n",
       "      <td>-0.120892</td>\n",
       "      <td>1.000000</td>\n",
       "      <td>0.440869</td>\n",
       "    </tr>\n",
       "    <tr>\n",
       "      <td>funding_Mil</td>\n",
       "      <td>0.317234</td>\n",
       "      <td>0.286541</td>\n",
       "      <td>0.293338</td>\n",
       "      <td>-0.103769</td>\n",
       "      <td>0.440869</td>\n",
       "      <td>1.000000</td>\n",
       "    </tr>\n",
       "  </tbody>\n",
       "</table>\n",
       "</div>"
      ],
      "text/plain": [
       "                 female_eng  male_eng  total_eng  PC_female_eng  \\\n",
       "female_eng         1.000000  0.856307   0.881807       0.041245   \n",
       "male_eng           0.856307  1.000000   0.998669      -0.173917   \n",
       "total_eng          0.881807  0.998669   1.000000      -0.154693   \n",
       "PC_female_eng      0.041245 -0.173917  -0.154693       1.000000   \n",
       "total_employees    0.589861  0.606778   0.612988      -0.120892   \n",
       "funding_Mil        0.317234  0.286541   0.293338      -0.103769   \n",
       "\n",
       "                 total_employees  funding_Mil  \n",
       "female_eng              0.589861     0.317234  \n",
       "male_eng                0.606778     0.286541  \n",
       "total_eng               0.612988     0.293338  \n",
       "PC_female_eng          -0.120892    -0.103769  \n",
       "total_employees         1.000000     0.440869  \n",
       "funding_Mil             0.440869     1.000000  "
      ]
     },
     "execution_count": 26,
     "metadata": {},
     "output_type": "execute_result"
    }
   ],
   "source": [
    "# Checking the correlations of the data\n",
    "tech.corr()"
   ]
  },
  {
   "cell_type": "markdown",
   "metadata": {},
   "source": [
    "#### Findings"
   ]
  },
  {
   "cell_type": "code",
   "execution_count": 27,
   "metadata": {},
   "outputs": [
    {
     "data": {
      "text/plain": [
       "<seaborn.axisgrid.PairGrid at 0x11ce12ab408>"
      ]
     },
     "execution_count": 27,
     "metadata": {},
     "output_type": "execute_result"
    },
    {
     "data": {
      "image/png": "[encoded data removed]",
      "text/plain": [
       "<Figure size 1080x1080 with 42 Axes>"
      ]
     },
     "metadata": {
      "needs_background": "light"
     },
     "output_type": "display_data"
    }
   ],
   "source": [
    "# Creating a pair plot to see any interesting findings\n",
    "sns.pairplot(tech)"
   ]
  },
  {
   "cell_type": "markdown",
   "metadata": {},
   "source": [
    "#### Findings"
   ]
  },
  {
   "cell_type": "code",
   "execution_count": 28,
   "metadata": {},
   "outputs": [
    {
     "data": {
      "text/html": [
       "<div>\n",
       "<style scoped>\n",
       "    .dataframe tbody tr th:only-of-type {\n",
       "        vertical-align: middle;\n",
       "    }\n",
       "\n",
       "    .dataframe tbody tr th {\n",
       "        vertical-align: top;\n",
       "    }\n",
       "\n",
       "    .dataframe thead th {\n",
       "        text-align: right;\n",
       "    }\n",
       "</style>\n",
       "<table border=\"1\" class=\"dataframe\">\n",
       "  <thead>\n",
       "    <tr style=\"text-align: right;\">\n",
       "      <th></th>\n",
       "      <th>Company</th>\n",
       "      <th>female_eng</th>\n",
       "      <th>male_eng</th>\n",
       "      <th>total_eng</th>\n",
       "      <th>PC_female_eng</th>\n",
       "      <th>total_employees</th>\n",
       "      <th>Location</th>\n",
       "      <th>funding_Mil</th>\n",
       "      <th>Category</th>\n",
       "      <th>PC_male_eng</th>\n",
       "    </tr>\n",
       "  </thead>\n",
       "  <tbody>\n",
       "    <tr>\n",
       "      <td>0</td>\n",
       "      <td>37signals</td>\n",
       "      <td>0</td>\n",
       "      <td>20</td>\n",
       "      <td>20</td>\n",
       "      <td>0.00</td>\n",
       "      <td>20.0</td>\n",
       "      <td>IL</td>\n",
       "      <td>0.00</td>\n",
       "      <td>Software</td>\n",
       "      <td>100.000000</td>\n",
       "    </tr>\n",
       "    <tr>\n",
       "      <td>1</td>\n",
       "      <td>7digital</td>\n",
       "      <td>1</td>\n",
       "      <td>20</td>\n",
       "      <td>21</td>\n",
       "      <td>4.76</td>\n",
       "      <td>120.0</td>\n",
       "      <td>London</td>\n",
       "      <td>18.50</td>\n",
       "      <td>Consumer Web</td>\n",
       "      <td>95.238095</td>\n",
       "    </tr>\n",
       "    <tr>\n",
       "      <td>2</td>\n",
       "      <td>Activision</td>\n",
       "      <td>1</td>\n",
       "      <td>29</td>\n",
       "      <td>30</td>\n",
       "      <td>3.33</td>\n",
       "      <td>706.0</td>\n",
       "      <td>CA</td>\n",
       "      <td>0.00</td>\n",
       "      <td>Games/Entertainment</td>\n",
       "      <td>96.666667</td>\n",
       "    </tr>\n",
       "    <tr>\n",
       "      <td>3</td>\n",
       "      <td>Adzerk</td>\n",
       "      <td>1</td>\n",
       "      <td>4</td>\n",
       "      <td>5</td>\n",
       "      <td>20.00</td>\n",
       "      <td>9.0</td>\n",
       "      <td>NC</td>\n",
       "      <td>0.65</td>\n",
       "      <td>Advertising</td>\n",
       "      <td>80.000000</td>\n",
       "    </tr>\n",
       "    <tr>\n",
       "      <td>4</td>\n",
       "      <td>Airbnb</td>\n",
       "      <td>10</td>\n",
       "      <td>66</td>\n",
       "      <td>76</td>\n",
       "      <td>13.16</td>\n",
       "      <td>1324.0</td>\n",
       "      <td>CA</td>\n",
       "      <td>326.00</td>\n",
       "      <td>Consumer Web</td>\n",
       "      <td>86.842105</td>\n",
       "    </tr>\n",
       "    <tr>\n",
       "      <td>...</td>\n",
       "      <td>...</td>\n",
       "      <td>...</td>\n",
       "      <td>...</td>\n",
       "      <td>...</td>\n",
       "      <td>...</td>\n",
       "      <td>...</td>\n",
       "      <td>...</td>\n",
       "      <td>...</td>\n",
       "      <td>...</td>\n",
       "      <td>...</td>\n",
       "    </tr>\n",
       "    <tr>\n",
       "      <td>116</td>\n",
       "      <td>Wikimedia Foundation</td>\n",
       "      <td>5</td>\n",
       "      <td>69</td>\n",
       "      <td>74</td>\n",
       "      <td>6.76</td>\n",
       "      <td>143.0</td>\n",
       "      <td>CA</td>\n",
       "      <td>74.00</td>\n",
       "      <td>Charity/Nonprofit</td>\n",
       "      <td>93.243243</td>\n",
       "    </tr>\n",
       "    <tr>\n",
       "      <td>117</td>\n",
       "      <td>Yellowsmith</td>\n",
       "      <td>2</td>\n",
       "      <td>1</td>\n",
       "      <td>3</td>\n",
       "      <td>66.67</td>\n",
       "      <td>5.0</td>\n",
       "      <td>NY</td>\n",
       "      <td>0.85</td>\n",
       "      <td>eCommerce/Fashion</td>\n",
       "      <td>33.333333</td>\n",
       "    </tr>\n",
       "    <tr>\n",
       "      <td>118</td>\n",
       "      <td>Yelp</td>\n",
       "      <td>17</td>\n",
       "      <td>189</td>\n",
       "      <td>206</td>\n",
       "      <td>8.25</td>\n",
       "      <td>1984.0</td>\n",
       "      <td>CA</td>\n",
       "      <td>107.00</td>\n",
       "      <td>Consumer Web</td>\n",
       "      <td>91.747573</td>\n",
       "    </tr>\n",
       "    <tr>\n",
       "      <td>119</td>\n",
       "      <td>Zendesk</td>\n",
       "      <td>8</td>\n",
       "      <td>37</td>\n",
       "      <td>45</td>\n",
       "      <td>17.78</td>\n",
       "      <td>500.0</td>\n",
       "      <td>CA</td>\n",
       "      <td>85.50</td>\n",
       "      <td>Enterprise</td>\n",
       "      <td>82.222222</td>\n",
       "    </tr>\n",
       "    <tr>\n",
       "      <td>120</td>\n",
       "      <td>Zerocater</td>\n",
       "      <td>0</td>\n",
       "      <td>2</td>\n",
       "      <td>2</td>\n",
       "      <td>0.00</td>\n",
       "      <td>45.0</td>\n",
       "      <td>CA</td>\n",
       "      <td>1.50</td>\n",
       "      <td>Consumer Web</td>\n",
       "      <td>100.000000</td>\n",
       "    </tr>\n",
       "  </tbody>\n",
       "</table>\n",
       "<p>121 rows × 10 columns</p>\n",
       "</div>"
      ],
      "text/plain": [
       "                  Company  female_eng  male_eng  total_eng  PC_female_eng  \\\n",
       "0               37signals           0        20         20           0.00   \n",
       "1                7digital           1        20         21           4.76   \n",
       "2              Activision           1        29         30           3.33   \n",
       "3                  Adzerk           1         4          5          20.00   \n",
       "4                  Airbnb          10        66         76          13.16   \n",
       "..                    ...         ...       ...        ...            ...   \n",
       "116  Wikimedia Foundation           5        69         74           6.76   \n",
       "117           Yellowsmith           2         1          3          66.67   \n",
       "118                  Yelp          17       189        206           8.25   \n",
       "119               Zendesk           8        37         45          17.78   \n",
       "120             Zerocater           0         2          2           0.00   \n",
       "\n",
       "     total_employees Location  funding_Mil             Category  PC_male_eng  \n",
       "0               20.0       IL         0.00             Software   100.000000  \n",
       "1              120.0   London        18.50         Consumer Web    95.238095  \n",
       "2              706.0       CA         0.00  Games/Entertainment    96.666667  \n",
       "3                9.0       NC         0.65          Advertising    80.000000  \n",
       "4             1324.0       CA       326.00         Consumer Web    86.842105  \n",
       "..               ...      ...          ...                  ...          ...  \n",
       "116            143.0       CA        74.00    Charity/Nonprofit    93.243243  \n",
       "117              5.0       NY         0.85    eCommerce/Fashion    33.333333  \n",
       "118           1984.0       CA       107.00         Consumer Web    91.747573  \n",
       "119            500.0       CA        85.50           Enterprise    82.222222  \n",
       "120             45.0       CA         1.50         Consumer Web   100.000000  \n",
       "\n",
       "[121 rows x 10 columns]"
      ]
     },
     "execution_count": 28,
     "metadata": {},
     "output_type": "execute_result"
    }
   ],
   "source": [
    "# Percentage of Male Engineers\n",
    "tech['PC_male_eng'] = tech['male_eng']/tech['total_eng'] * 100\n",
    "tech"
   ]
  },
  {
   "cell_type": "code",
   "execution_count": 29,
   "metadata": {},
   "outputs": [
    {
     "data": {
      "text/html": [
       "<div>\n",
       "<style scoped>\n",
       "    .dataframe tbody tr th:only-of-type {\n",
       "        vertical-align: middle;\n",
       "    }\n",
       "\n",
       "    .dataframe tbody tr th {\n",
       "        vertical-align: top;\n",
       "    }\n",
       "\n",
       "    .dataframe thead th {\n",
       "        text-align: right;\n",
       "    }\n",
       "</style>\n",
       "<table border=\"1\" class=\"dataframe\">\n",
       "  <thead>\n",
       "    <tr style=\"text-align: right;\">\n",
       "      <th></th>\n",
       "      <th>Company</th>\n",
       "      <th>female_eng</th>\n",
       "      <th>male_eng</th>\n",
       "      <th>total_eng</th>\n",
       "      <th>PC_female_eng</th>\n",
       "      <th>total_employees</th>\n",
       "      <th>Location</th>\n",
       "      <th>funding_Mil</th>\n",
       "      <th>Category</th>\n",
       "      <th>PC_male_eng</th>\n",
       "    </tr>\n",
       "  </thead>\n",
       "  <tbody>\n",
       "    <tr>\n",
       "      <td>0</td>\n",
       "      <td>37signals</td>\n",
       "      <td>0</td>\n",
       "      <td>20</td>\n",
       "      <td>20</td>\n",
       "      <td>0.00</td>\n",
       "      <td>20.0</td>\n",
       "      <td>IL</td>\n",
       "      <td>0.00</td>\n",
       "      <td>Software</td>\n",
       "      <td>100.00</td>\n",
       "    </tr>\n",
       "    <tr>\n",
       "      <td>1</td>\n",
       "      <td>7digital</td>\n",
       "      <td>1</td>\n",
       "      <td>20</td>\n",
       "      <td>21</td>\n",
       "      <td>4.76</td>\n",
       "      <td>120.0</td>\n",
       "      <td>London</td>\n",
       "      <td>18.50</td>\n",
       "      <td>Consumer Web</td>\n",
       "      <td>95.24</td>\n",
       "    </tr>\n",
       "    <tr>\n",
       "      <td>2</td>\n",
       "      <td>Activision</td>\n",
       "      <td>1</td>\n",
       "      <td>29</td>\n",
       "      <td>30</td>\n",
       "      <td>3.33</td>\n",
       "      <td>706.0</td>\n",
       "      <td>CA</td>\n",
       "      <td>0.00</td>\n",
       "      <td>Games/Entertainment</td>\n",
       "      <td>96.67</td>\n",
       "    </tr>\n",
       "    <tr>\n",
       "      <td>3</td>\n",
       "      <td>Adzerk</td>\n",
       "      <td>1</td>\n",
       "      <td>4</td>\n",
       "      <td>5</td>\n",
       "      <td>20.00</td>\n",
       "      <td>9.0</td>\n",
       "      <td>NC</td>\n",
       "      <td>0.65</td>\n",
       "      <td>Advertising</td>\n",
       "      <td>80.00</td>\n",
       "    </tr>\n",
       "    <tr>\n",
       "      <td>4</td>\n",
       "      <td>Airbnb</td>\n",
       "      <td>10</td>\n",
       "      <td>66</td>\n",
       "      <td>76</td>\n",
       "      <td>13.16</td>\n",
       "      <td>1324.0</td>\n",
       "      <td>CA</td>\n",
       "      <td>326.00</td>\n",
       "      <td>Consumer Web</td>\n",
       "      <td>86.84</td>\n",
       "    </tr>\n",
       "    <tr>\n",
       "      <td>...</td>\n",
       "      <td>...</td>\n",
       "      <td>...</td>\n",
       "      <td>...</td>\n",
       "      <td>...</td>\n",
       "      <td>...</td>\n",
       "      <td>...</td>\n",
       "      <td>...</td>\n",
       "      <td>...</td>\n",
       "      <td>...</td>\n",
       "      <td>...</td>\n",
       "    </tr>\n",
       "    <tr>\n",
       "      <td>116</td>\n",
       "      <td>Wikimedia Foundation</td>\n",
       "      <td>5</td>\n",
       "      <td>69</td>\n",
       "      <td>74</td>\n",
       "      <td>6.76</td>\n",
       "      <td>143.0</td>\n",
       "      <td>CA</td>\n",
       "      <td>74.00</td>\n",
       "      <td>Charity/Nonprofit</td>\n",
       "      <td>93.24</td>\n",
       "    </tr>\n",
       "    <tr>\n",
       "      <td>117</td>\n",
       "      <td>Yellowsmith</td>\n",
       "      <td>2</td>\n",
       "      <td>1</td>\n",
       "      <td>3</td>\n",
       "      <td>66.67</td>\n",
       "      <td>5.0</td>\n",
       "      <td>NY</td>\n",
       "      <td>0.85</td>\n",
       "      <td>eCommerce/Fashion</td>\n",
       "      <td>33.33</td>\n",
       "    </tr>\n",
       "    <tr>\n",
       "      <td>118</td>\n",
       "      <td>Yelp</td>\n",
       "      <td>17</td>\n",
       "      <td>189</td>\n",
       "      <td>206</td>\n",
       "      <td>8.25</td>\n",
       "      <td>1984.0</td>\n",
       "      <td>CA</td>\n",
       "      <td>107.00</td>\n",
       "      <td>Consumer Web</td>\n",
       "      <td>91.75</td>\n",
       "    </tr>\n",
       "    <tr>\n",
       "      <td>119</td>\n",
       "      <td>Zendesk</td>\n",
       "      <td>8</td>\n",
       "      <td>37</td>\n",
       "      <td>45</td>\n",
       "      <td>17.78</td>\n",
       "      <td>500.0</td>\n",
       "      <td>CA</td>\n",
       "      <td>85.50</td>\n",
       "      <td>Enterprise</td>\n",
       "      <td>82.22</td>\n",
       "    </tr>\n",
       "    <tr>\n",
       "      <td>120</td>\n",
       "      <td>Zerocater</td>\n",
       "      <td>0</td>\n",
       "      <td>2</td>\n",
       "      <td>2</td>\n",
       "      <td>0.00</td>\n",
       "      <td>45.0</td>\n",
       "      <td>CA</td>\n",
       "      <td>1.50</td>\n",
       "      <td>Consumer Web</td>\n",
       "      <td>100.00</td>\n",
       "    </tr>\n",
       "  </tbody>\n",
       "</table>\n",
       "<p>121 rows × 10 columns</p>\n",
       "</div>"
      ],
      "text/plain": [
       "                  Company  female_eng  male_eng  total_eng  PC_female_eng  \\\n",
       "0               37signals           0        20         20           0.00   \n",
       "1                7digital           1        20         21           4.76   \n",
       "2              Activision           1        29         30           3.33   \n",
       "3                  Adzerk           1         4          5          20.00   \n",
       "4                  Airbnb          10        66         76          13.16   \n",
       "..                    ...         ...       ...        ...            ...   \n",
       "116  Wikimedia Foundation           5        69         74           6.76   \n",
       "117           Yellowsmith           2         1          3          66.67   \n",
       "118                  Yelp          17       189        206           8.25   \n",
       "119               Zendesk           8        37         45          17.78   \n",
       "120             Zerocater           0         2          2           0.00   \n",
       "\n",
       "     total_employees Location  funding_Mil             Category  PC_male_eng  \n",
       "0               20.0       IL         0.00             Software       100.00  \n",
       "1              120.0   London        18.50         Consumer Web        95.24  \n",
       "2              706.0       CA         0.00  Games/Entertainment        96.67  \n",
       "3                9.0       NC         0.65          Advertising        80.00  \n",
       "4             1324.0       CA       326.00         Consumer Web        86.84  \n",
       "..               ...      ...          ...                  ...          ...  \n",
       "116            143.0       CA        74.00    Charity/Nonprofit        93.24  \n",
       "117              5.0       NY         0.85    eCommerce/Fashion        33.33  \n",
       "118           1984.0       CA       107.00         Consumer Web        91.75  \n",
       "119            500.0       CA        85.50           Enterprise        82.22  \n",
       "120             45.0       CA         1.50         Consumer Web       100.00  \n",
       "\n",
       "[121 rows x 10 columns]"
      ]
     },
     "execution_count": 29,
     "metadata": {},
     "output_type": "execute_result"
    }
   ],
   "source": [
    "# Rounding upto 2 points after decimal\n",
    "tech.round({'PC_male_eng':2})"
   ]
  },
  {
   "cell_type": "markdown",
   "metadata": {},
   "source": [
    "### 3.3 Data Visualization"
   ]
  },
  {
   "cell_type": "markdown",
   "metadata": {},
   "source": [
    "### 3.3.1 Visualization of the Total Number of Female and Male Employees"
   ]
  },
  {
   "cell_type": "code",
   "execution_count": 30,
   "metadata": {},
   "outputs": [
    {
     "data": {
      "image/png": "[encoded data removed]",
      "text/plain": [
       "<Figure size 432x288 with 1 Axes>"
      ]
     },
     "metadata": {
      "needs_background": "light"
     },
     "output_type": "display_data"
    }
   ],
   "source": [
    "objects = ('Female_Engineers', 'Male_Engineers')\n",
    "y_pos = np.arange(len(objects))\n",
    "performance = [1076,7661]\n",
    "\n",
    "plt.bar(y_pos, performance, align='center', alpha=0.5)\n",
    "plt.xticks(y_pos, objects)\n",
    "plt.xlabel('Total Engineers')\n",
    "plt.ylabel('Employees')\n",
    "plt.title('Female and Male Ratio')\n",
    "\n",
    "plt.show()"
   ]
  },
  {
   "cell_type": "markdown",
   "metadata": {},
   "source": [
    "### Calculating the Sums of Female Engineers, Male Engineers, Total Number of Engineers and Total Employees"
   ]
  },
  {
   "cell_type": "code",
   "execution_count": 31,
   "metadata": {},
   "outputs": [
    {
     "data": {
      "text/plain": [
       "Company            37signals7digitalActivisionAdzerkAirbnbappssav...\n",
       "female_eng                                                       523\n",
       "male_eng                                                        3754\n",
       "total_eng                                                       4277\n",
       "PC_female_eng                                                2009.37\n",
       "total_employees                                                19128\n",
       "funding_Mil                                                  4941.22\n",
       "Category           SoftwareConsumer WebGames/EntertainmentAdverti...\n",
       "PC_male_eng                                                  10090.6\n",
       "dtype: object"
      ]
     },
     "execution_count": 31,
     "metadata": {},
     "output_type": "execute_result"
    }
   ],
   "source": [
    "tech.sum(axis=0, skipna=True)"
   ]
  },
  {
   "cell_type": "code",
   "execution_count": 32,
   "metadata": {},
   "outputs": [
    {
     "data": {
      "text/plain": [
       "523"
      ]
     },
     "execution_count": 32,
     "metadata": {},
     "output_type": "execute_result"
    }
   ],
   "source": [
    "Female_Engineers = tech.female_eng.sum(axis=0, skipna=True)\n",
    "Female_Engineers"
   ]
  },
  {
   "cell_type": "code",
   "execution_count": 33,
   "metadata": {},
   "outputs": [
    {
     "data": {
      "text/plain": [
       "3754"
      ]
     },
     "execution_count": 33,
     "metadata": {},
     "output_type": "execute_result"
    }
   ],
   "source": [
    "Male_Engineers = tech.male_eng.sum(axis=0, skipna=True)\n",
    "Male_Engineers"
   ]
  },
  {
   "cell_type": "code",
   "execution_count": 34,
   "metadata": {},
   "outputs": [
    {
     "data": {
      "text/plain": [
       "4277"
      ]
     },
     "execution_count": 34,
     "metadata": {},
     "output_type": "execute_result"
    }
   ],
   "source": [
    "Total_Engineers = tech.total_eng.sum(axis=0, skipna=True)\n",
    "Total_Engineers"
   ]
  },
  {
   "cell_type": "markdown",
   "metadata": {},
   "source": [
    "### Female Engineers per Company Category"
   ]
  },
  {
   "cell_type": "code",
   "execution_count": 35,
   "metadata": {},
   "outputs": [
    {
     "data": {
      "text/html": [
       "<div>\n",
       "<style scoped>\n",
       "    .dataframe tbody tr th:only-of-type {\n",
       "        vertical-align: middle;\n",
       "    }\n",
       "\n",
       "    .dataframe tbody tr th {\n",
       "        vertical-align: top;\n",
       "    }\n",
       "\n",
       "    .dataframe thead th {\n",
       "        text-align: right;\n",
       "    }\n",
       "</style>\n",
       "<table border=\"1\" class=\"dataframe\">\n",
       "  <thead>\n",
       "    <tr style=\"text-align: right;\">\n",
       "      <th></th>\n",
       "      <th>female_eng</th>\n",
       "      <th>male_eng</th>\n",
       "      <th>total_eng</th>\n",
       "      <th>PC_female_eng</th>\n",
       "      <th>total_employees</th>\n",
       "      <th>funding_Mil</th>\n",
       "      <th>PC_male_eng</th>\n",
       "    </tr>\n",
       "    <tr>\n",
       "      <th>Category</th>\n",
       "      <th></th>\n",
       "      <th></th>\n",
       "      <th></th>\n",
       "      <th></th>\n",
       "      <th></th>\n",
       "      <th></th>\n",
       "      <th></th>\n",
       "    </tr>\n",
       "  </thead>\n",
       "  <tbody>\n",
       "    <tr>\n",
       "      <td>Advertising</td>\n",
       "      <td>28</td>\n",
       "      <td>165</td>\n",
       "      <td>193</td>\n",
       "      <td>155.40</td>\n",
       "      <td>871.0</td>\n",
       "      <td>90.690</td>\n",
       "      <td>644.595758</td>\n",
       "    </tr>\n",
       "    <tr>\n",
       "      <td>Analytics/Big Data</td>\n",
       "      <td>9</td>\n",
       "      <td>53</td>\n",
       "      <td>62</td>\n",
       "      <td>50.95</td>\n",
       "      <td>218.0</td>\n",
       "      <td>70.500</td>\n",
       "      <td>249.055829</td>\n",
       "    </tr>\n",
       "    <tr>\n",
       "      <td>Charity/Nonprofit</td>\n",
       "      <td>9</td>\n",
       "      <td>94</td>\n",
       "      <td>103</td>\n",
       "      <td>64.76</td>\n",
       "      <td>266.0</td>\n",
       "      <td>91.900</td>\n",
       "      <td>235.243243</td>\n",
       "    </tr>\n",
       "    <tr>\n",
       "      <td>Consulting</td>\n",
       "      <td>12</td>\n",
       "      <td>62</td>\n",
       "      <td>74</td>\n",
       "      <td>62.41</td>\n",
       "      <td>120.0</td>\n",
       "      <td>0.000</td>\n",
       "      <td>237.590188</td>\n",
       "    </tr>\n",
       "    <tr>\n",
       "      <td>Consumer Web</td>\n",
       "      <td>174</td>\n",
       "      <td>1309</td>\n",
       "      <td>1483</td>\n",
       "      <td>525.58</td>\n",
       "      <td>6610.0</td>\n",
       "      <td>1392.250</td>\n",
       "      <td>2274.409793</td>\n",
       "    </tr>\n",
       "    <tr>\n",
       "      <td>Education</td>\n",
       "      <td>20</td>\n",
       "      <td>151</td>\n",
       "      <td>171</td>\n",
       "      <td>209.96</td>\n",
       "      <td>865.0</td>\n",
       "      <td>210.117</td>\n",
       "      <td>890.039683</td>\n",
       "    </tr>\n",
       "    <tr>\n",
       "      <td>Enterprise</td>\n",
       "      <td>28</td>\n",
       "      <td>171</td>\n",
       "      <td>199</td>\n",
       "      <td>103.69</td>\n",
       "      <td>1010.0</td>\n",
       "      <td>170.550</td>\n",
       "      <td>696.313131</td>\n",
       "    </tr>\n",
       "    <tr>\n",
       "      <td>Finance/Venture</td>\n",
       "      <td>13</td>\n",
       "      <td>55</td>\n",
       "      <td>68</td>\n",
       "      <td>81.60</td>\n",
       "      <td>521.0</td>\n",
       "      <td>99.100</td>\n",
       "      <td>318.397436</td>\n",
       "    </tr>\n",
       "    <tr>\n",
       "      <td>Games/Entertainment</td>\n",
       "      <td>1</td>\n",
       "      <td>29</td>\n",
       "      <td>30</td>\n",
       "      <td>3.33</td>\n",
       "      <td>706.0</td>\n",
       "      <td>0.000</td>\n",
       "      <td>96.666667</td>\n",
       "    </tr>\n",
       "    <tr>\n",
       "      <td>Hardware</td>\n",
       "      <td>16</td>\n",
       "      <td>264</td>\n",
       "      <td>280</td>\n",
       "      <td>25.54</td>\n",
       "      <td>535.0</td>\n",
       "      <td>17.000</td>\n",
       "      <td>274.464945</td>\n",
       "    </tr>\n",
       "    <tr>\n",
       "      <td>Health/CleanTech</td>\n",
       "      <td>21</td>\n",
       "      <td>95</td>\n",
       "      <td>116</td>\n",
       "      <td>109.53</td>\n",
       "      <td>667.0</td>\n",
       "      <td>323.400</td>\n",
       "      <td>590.476190</td>\n",
       "    </tr>\n",
       "    <tr>\n",
       "      <td>Mobile/Wireless</td>\n",
       "      <td>14</td>\n",
       "      <td>147</td>\n",
       "      <td>161</td>\n",
       "      <td>49.88</td>\n",
       "      <td>525.0</td>\n",
       "      <td>162.610</td>\n",
       "      <td>550.123194</td>\n",
       "    </tr>\n",
       "    <tr>\n",
       "      <td>News/Media</td>\n",
       "      <td>14</td>\n",
       "      <td>97</td>\n",
       "      <td>111</td>\n",
       "      <td>48.29</td>\n",
       "      <td>357.0</td>\n",
       "      <td>201.100</td>\n",
       "      <td>451.714286</td>\n",
       "    </tr>\n",
       "    <tr>\n",
       "      <td>Social Networking</td>\n",
       "      <td>33</td>\n",
       "      <td>221</td>\n",
       "      <td>254</td>\n",
       "      <td>107.98</td>\n",
       "      <td>1309.0</td>\n",
       "      <td>789.570</td>\n",
       "      <td>692.020310</td>\n",
       "    </tr>\n",
       "    <tr>\n",
       "      <td>Software</td>\n",
       "      <td>93</td>\n",
       "      <td>654</td>\n",
       "      <td>747</td>\n",
       "      <td>149.17</td>\n",
       "      <td>3695.0</td>\n",
       "      <td>1097.480</td>\n",
       "      <td>1350.816493</td>\n",
       "    </tr>\n",
       "    <tr>\n",
       "      <td>eCommerce/Fashion</td>\n",
       "      <td>38</td>\n",
       "      <td>187</td>\n",
       "      <td>225</td>\n",
       "      <td>261.30</td>\n",
       "      <td>853.0</td>\n",
       "      <td>224.950</td>\n",
       "      <td>538.706655</td>\n",
       "    </tr>\n",
       "  </tbody>\n",
       "</table>\n",
       "</div>"
      ],
      "text/plain": [
       "                     female_eng  male_eng  total_eng  PC_female_eng  \\\n",
       "Category                                                              \n",
       "Advertising                  28       165        193         155.40   \n",
       "Analytics/Big Data            9        53         62          50.95   \n",
       "Charity/Nonprofit             9        94        103          64.76   \n",
       "Consulting                   12        62         74          62.41   \n",
       "Consumer Web                174      1309       1483         525.58   \n",
       "Education                    20       151        171         209.96   \n",
       "Enterprise                   28       171        199         103.69   \n",
       "Finance/Venture              13        55         68          81.60   \n",
       "Games/Entertainment           1        29         30           3.33   \n",
       "Hardware                     16       264        280          25.54   \n",
       "Health/CleanTech             21        95        116         109.53   \n",
       "Mobile/Wireless              14       147        161          49.88   \n",
       "News/Media                   14        97        111          48.29   \n",
       "Social Networking            33       221        254         107.98   \n",
       "Software                     93       654        747         149.17   \n",
       "eCommerce/Fashion            38       187        225         261.30   \n",
       "\n",
       "                     total_employees  funding_Mil  PC_male_eng  \n",
       "Category                                                        \n",
       "Advertising                    871.0       90.690   644.595758  \n",
       "Analytics/Big Data             218.0       70.500   249.055829  \n",
       "Charity/Nonprofit              266.0       91.900   235.243243  \n",
       "Consulting                     120.0        0.000   237.590188  \n",
       "Consumer Web                  6610.0     1392.250  2274.409793  \n",
       "Education                      865.0      210.117   890.039683  \n",
       "Enterprise                    1010.0      170.550   696.313131  \n",
       "Finance/Venture                521.0       99.100   318.397436  \n",
       "Games/Entertainment            706.0        0.000    96.666667  \n",
       "Hardware                       535.0       17.000   274.464945  \n",
       "Health/CleanTech               667.0      323.400   590.476190  \n",
       "Mobile/Wireless                525.0      162.610   550.123194  \n",
       "News/Media                     357.0      201.100   451.714286  \n",
       "Social Networking             1309.0      789.570   692.020310  \n",
       "Software                      3695.0     1097.480  1350.816493  \n",
       "eCommerce/Fashion              853.0      224.950   538.706655  "
      ]
     },
     "execution_count": 35,
     "metadata": {},
     "output_type": "execute_result"
    }
   ],
   "source": [
    "# The number of female engineers in each category.\n",
    "tech.groupby('Category').sum()"
   ]
  },
  {
   "cell_type": "code",
   "execution_count": 36,
   "metadata": {},
   "outputs": [
    {
     "data": {
      "text/plain": [
       "Category\n",
       "Advertising             28\n",
       "Analytics/Big Data       9\n",
       "Charity/Nonprofit        9\n",
       "Consulting              12\n",
       "Consumer Web           174\n",
       "Education               20\n",
       "Enterprise              28\n",
       "Finance/Venture         13\n",
       "Games/Entertainment      1\n",
       "Hardware                16\n",
       "Health/CleanTech        21\n",
       "Mobile/Wireless         14\n",
       "News/Media              14\n",
       "Social Networking       33\n",
       "Software                93\n",
       "eCommerce/Fashion       38\n",
       "Name: female_eng, dtype: int64"
      ]
     },
     "execution_count": 36,
     "metadata": {},
     "output_type": "execute_result"
    }
   ],
   "source": [
    "female_eng_byCategory = tech.groupby('Category').sum()['female_eng']\n",
    "female_eng_byCategory"
   ]
  },
  {
   "cell_type": "code",
   "execution_count": 37,
   "metadata": {},
   "outputs": [
    {
     "data": {
      "text/plain": [
       "Category\n",
       "Advertising             193\n",
       "Analytics/Big Data       62\n",
       "Charity/Nonprofit       103\n",
       "Consulting               74\n",
       "Consumer Web           1483\n",
       "Education               171\n",
       "Enterprise              199\n",
       "Finance/Venture          68\n",
       "Games/Entertainment      30\n",
       "Hardware                280\n",
       "Health/CleanTech        116\n",
       "Mobile/Wireless         161\n",
       "News/Media              111\n",
       "Social Networking       254\n",
       "Software                747\n",
       "eCommerce/Fashion       225\n",
       "Name: total_eng, dtype: int64"
      ]
     },
     "execution_count": 37,
     "metadata": {},
     "output_type": "execute_result"
    }
   ],
   "source": [
    "total_eng_byCategory = tech.groupby('Category').sum()['total_eng']\n",
    "total_eng_byCategory"
   ]
  },
  {
   "cell_type": "code",
   "execution_count": 38,
   "metadata": {},
   "outputs": [
    {
     "data": {
      "text/plain": [
       "Category\n",
       "Advertising            14.507772\n",
       "Analytics/Big Data     14.516129\n",
       "Charity/Nonprofit       8.737864\n",
       "Consulting             16.216216\n",
       "Consumer Web           11.732974\n",
       "Education              11.695906\n",
       "Enterprise             14.070352\n",
       "Finance/Venture        19.117647\n",
       "Games/Entertainment     3.333333\n",
       "Hardware                5.714286\n",
       "Health/CleanTech       18.103448\n",
       "Mobile/Wireless         8.695652\n",
       "News/Media             12.612613\n",
       "Social Networking      12.992126\n",
       "Software               12.449799\n",
       "eCommerce/Fashion      16.888889\n",
       "dtype: float64"
      ]
     },
     "execution_count": 38,
     "metadata": {},
     "output_type": "execute_result"
    }
   ],
   "source": [
    "percentage = female_eng_byCategory/total_eng_byCategory*100\n",
    "percentage"
   ]
  },
  {
   "cell_type": "code",
   "execution_count": 39,
   "metadata": {},
   "outputs": [
    {
     "data": {
      "text/plain": [
       "Category\n",
       "Finance/Venture        19.117647\n",
       "Health/CleanTech       18.103448\n",
       "eCommerce/Fashion      16.888889\n",
       "Consulting             16.216216\n",
       "Analytics/Big Data     14.516129\n",
       "Advertising            14.507772\n",
       "Enterprise             14.070352\n",
       "Social Networking      12.992126\n",
       "News/Media             12.612613\n",
       "Software               12.449799\n",
       "Consumer Web           11.732974\n",
       "Education              11.695906\n",
       "Charity/Nonprofit       8.737864\n",
       "Mobile/Wireless         8.695652\n",
       "Hardware                5.714286\n",
       "Games/Entertainment     3.333333\n",
       "dtype: float64"
      ]
     },
     "execution_count": 39,
     "metadata": {},
     "output_type": "execute_result"
    }
   ],
   "source": [
    "# The percentage of female engineers sorted by the value\n",
    "percentage.sort_values(ascending=False)"
   ]
  },
  {
   "cell_type": "code",
   "execution_count": 40,
   "metadata": {},
   "outputs": [
    {
     "data": {
      "text/plain": [
       "Category\n",
       "Finance/Venture      19.117647\n",
       "Health/CleanTech     18.103448\n",
       "eCommerce/Fashion    16.888889\n",
       "dtype: float64"
      ]
     },
     "execution_count": 40,
     "metadata": {},
     "output_type": "execute_result"
    }
   ],
   "source": [
    "# Top company categories with female engineers\n",
    "percentage.sort_values(ascending=False).head(3)"
   ]
  },
  {
   "cell_type": "code",
   "execution_count": 41,
   "metadata": {},
   "outputs": [
    {
     "data": {
      "text/plain": [
       "Category\n",
       "Games/Entertainment    3.333333\n",
       "Hardware               5.714286\n",
       "Mobile/Wireless        8.695652\n",
       "dtype: float64"
      ]
     },
     "execution_count": 41,
     "metadata": {},
     "output_type": "execute_result"
    }
   ],
   "source": [
    "# Bottom company categories with female engineers\n",
    "percentage.sort_values(ascending=True).head(3)"
   ]
  },
  {
   "cell_type": "markdown",
   "metadata": {},
   "source": [
    "#### Findings\n",
    "_Rami Comment: These findings can be moved to chapter 4. Analysis._\n",
    "\n",
    "As can be found from the data the top 3 company categories with the highest percentage of female engineers are:\n",
    "\n",
    "- Finance/Venture 19.12 %\n",
    "- Health/CleanTech 18.10 % \n",
    "- eCommerce/Fashion 16.89 %\n",
    "\n",
    "The company categories with the lowest percentage of female engineers are as follows:\n",
    "\n",
    "- Games/Entertainment 3.33 %\n",
    "- Hardware 5.71 %\n",
    "- Mobile/Wireless 8.7 %\n",
    "\n",
    "It its worth noting the low percentage of female engineers in the Games/Entertainment category."
   ]
  },
  {
   "cell_type": "markdown",
   "metadata": {},
   "source": [
    "### Correlation Matrix of Employees (Female, Male, Total) and Funding"
   ]
  },
  {
   "cell_type": "code",
   "execution_count": 42,
   "metadata": {},
   "outputs": [
    {
     "data": {
      "image/png": "[encoded data removed]",
      "text/plain": [
       "<Figure size 432x288 with 2 Axes>"
      ]
     },
     "metadata": {
      "needs_background": "light"
     },
     "output_type": "display_data"
    }
   ],
   "source": [
    "# Use Seaborn's heatmap to plot the correlation matrix of employees and fundings\n",
    "corr_tech = tech[['female_eng','total_eng','PC_female_eng', 'funding_Mil']].corr()\n",
    "corr_heatmap = sns.heatmap(corr_tech.corr(), annot=True)"
   ]
  },
  {
   "cell_type": "markdown",
   "metadata": {},
   "source": [
    "### 3.4 Machine Learning"
   ]
  },
  {
   "cell_type": "markdown",
   "metadata": {},
   "source": [
    "### Using K-Means to Predict Company Categories"
   ]
  },
  {
   "cell_type": "code",
   "execution_count": 43,
   "metadata": {},
   "outputs": [],
   "source": [
    "from sklearn import metrics\n",
    "from sklearn.cluster import KMeans"
   ]
  },
  {
   "cell_type": "code",
   "execution_count": 44,
   "metadata": {},
   "outputs": [],
   "source": [
    "# The column 'PC_female_eng' is 'X'\n",
    "X = tech.iloc[:, [5]]"
   ]
  },
  {
   "cell_type": "code",
   "execution_count": 45,
   "metadata": {},
   "outputs": [
    {
     "data": {
      "image/png": "[encoded data removed]",
      "text/plain": [
       "<Figure size 432x288 with 1 Axes>"
      ]
     },
     "metadata": {
      "needs_background": "light"
     },
     "output_type": "display_data"
    }
   ],
   "source": [
    "# Using the Elbow method to find the optinal number of clusters\n",
    "inertias = []\n",
    "for i in range (1, 11):\n",
    "    kmeans = KMeans(n_clusters = i, init = 'k-means++', max_iter = 300, n_init = 10, random_state = 0)\n",
    "    kmeans.fit(X)\n",
    "    inertias.append(kmeans.inertia_)\n",
    "plt.plot(range(1, 11), inertias)\n",
    "plt.title('The Elbow Method')\n",
    "plt.xlabel('Number of clusters')\n",
    "plt.ylabel('Inertia')\n",
    "plt.show()"
   ]
  },
  {
   "cell_type": "markdown",
   "metadata": {},
   "source": [
    "As the above figure shows, the number of clusters should be 3. "
   ]
  },
  {
   "cell_type": "code",
   "execution_count": 46,
   "metadata": {},
   "outputs": [
    {
     "name": "stdout",
     "output_type": "stream",
     "text": [
      "[0 0 2 0 1 0 0 0 0 0 0 0 0 0 0 0 0 0 0 0 2 0 0 0 2 0 0 0 0 2 0 0 0 0 0 1 0\n",
      " 0 0 0 0 0 2 0 2 0 0 0 0 0 0 0 2 0 0 0 0 0 0 0 2 0 2 0 0 0 0 0 0 0 2 0 2 0\n",
      " 2 2 0 0 0 0 2 0 0 0 0 0 0 0 0 0 0 0 0 0 0 0 0 0 0 0 2 0 0 0 0 0 0 0 0 0 0\n",
      " 0 0 0 0 0 0 0 1 2 0]\n"
     ]
    }
   ],
   "source": [
    "# Applying k-means to the tech dataset\n",
    "kmeans = KMeans(n_clusters = 3)\n",
    "\n",
    "# Fitting\n",
    "y_kmeans = kmeans.fit_predict(X)\n",
    "\n",
    "# Prediction\n",
    "prediction = kmeans.predict(X)\n",
    "print(prediction)"
   ]
  },
  {
   "cell_type": "code",
   "execution_count": 49,
   "metadata": {},
   "outputs": [
    {
     "ename": "TypeError",
     "evalue": "'(array([ True,  True, False,  True, False,  True,  True,  True,  True,\n        True,  True,  True,  True,  True,  True,  True,  True,  True,\n        True,  True, False,  True,  True,  True, False,  True,  True,\n        True,  True, False,  True,  True,  True,  True,  True, False,\n        True,  True,  True,  True,  True,  True, False,  True, False,\n        True,  True,  True,  True,  True,  True,  True, False,  True,\n        True,  True,  True,  True,  True,  True, False,  True, False,\n        True,  True,  True,  True,  True,  True,  True, False,  True,\n       False,  True, False, False,  True,  True,  True,  True, False,\n        True,  True,  True,  True,  True,  True,  True,  True,  True,\n        True,  True,  True,  True,  True,  True,  True,  True,  True,\n        True, False,  True,  True,  True,  True,  True,  True,  True,\n        True,  True,  True,  True,  True,  True,  True,  True,  True,\n        True, False, False,  True]), 0)' is an invalid key",
     "output_type": "error",
     "traceback": [
      "\u001b[1;31m---------------------------------------------------------------------------\u001b[0m",
      "\u001b[1;31mTypeError\u001b[0m                                 Traceback (most recent call last)",
      "\u001b[1;32m<ipython-input-49-c02e6bea1c72>\u001b[0m in \u001b[0;36m<module>\u001b[1;34m\u001b[0m\n\u001b[0;32m      2\u001b[0m \u001b[1;33m\u001b[0m\u001b[0m\n\u001b[0;32m      3\u001b[0m \u001b[1;31m# Making a scatter plot of Xs and y_kmeans\u001b[0m\u001b[1;33m\u001b[0m\u001b[1;33m\u001b[0m\u001b[1;33m\u001b[0m\u001b[0m\n\u001b[1;32m----> 4\u001b[1;33m \u001b[0mplt\u001b[0m\u001b[1;33m.\u001b[0m\u001b[0mscatter\u001b[0m\u001b[1;33m(\u001b[0m\u001b[0mX\u001b[0m\u001b[1;33m[\u001b[0m\u001b[0my_kmeans\u001b[0m \u001b[1;33m==\u001b[0m \u001b[1;36m0\u001b[0m\u001b[1;33m,\u001b[0m \u001b[1;36m0\u001b[0m\u001b[1;33m]\u001b[0m\u001b[1;33m,\u001b[0m \u001b[0mX\u001b[0m\u001b[1;33m[\u001b[0m\u001b[0my_kmeans\u001b[0m \u001b[1;33m==\u001b[0m \u001b[1;36m0\u001b[0m\u001b[1;33m,\u001b[0m \u001b[1;36m1\u001b[0m\u001b[1;33m]\u001b[0m\u001b[1;33m,\u001b[0m \u001b[0ms\u001b[0m \u001b[1;33m=\u001b[0m \u001b[1;36m100\u001b[0m\u001b[1;33m,\u001b[0m \u001b[0mc\u001b[0m \u001b[1;33m=\u001b[0m \u001b[1;34m'blue'\u001b[0m\u001b[1;33m,\u001b[0m \u001b[0mlabel\u001b[0m \u001b[1;33m=\u001b[0m \u001b[1;34m'Cluster 1'\u001b[0m\u001b[1;33m)\u001b[0m\u001b[1;33m\u001b[0m\u001b[1;33m\u001b[0m\u001b[0m\n\u001b[0m\u001b[0;32m      5\u001b[0m \u001b[0mplt\u001b[0m\u001b[1;33m.\u001b[0m\u001b[0mscatter\u001b[0m\u001b[1;33m(\u001b[0m\u001b[0mX\u001b[0m\u001b[1;33m[\u001b[0m\u001b[0my_kmeans\u001b[0m \u001b[1;33m==\u001b[0m \u001b[1;36m1\u001b[0m\u001b[1;33m,\u001b[0m \u001b[1;36m0\u001b[0m\u001b[1;33m]\u001b[0m\u001b[1;33m,\u001b[0m \u001b[0mX\u001b[0m\u001b[1;33m[\u001b[0m\u001b[0my_kmeans\u001b[0m \u001b[1;33m==\u001b[0m \u001b[1;36m1\u001b[0m\u001b[1;33m,\u001b[0m \u001b[1;36m1\u001b[0m\u001b[1;33m]\u001b[0m\u001b[1;33m,\u001b[0m \u001b[0ms\u001b[0m \u001b[1;33m=\u001b[0m \u001b[1;36m100\u001b[0m\u001b[1;33m,\u001b[0m \u001b[0mc\u001b[0m \u001b[1;33m=\u001b[0m \u001b[1;34m'cyan'\u001b[0m\u001b[1;33m,\u001b[0m \u001b[0mlabel\u001b[0m \u001b[1;33m=\u001b[0m \u001b[1;34m'Cluster 2'\u001b[0m\u001b[1;33m)\u001b[0m\u001b[1;33m\u001b[0m\u001b[1;33m\u001b[0m\u001b[0m\n\u001b[0;32m      6\u001b[0m \u001b[0mplt\u001b[0m\u001b[1;33m.\u001b[0m\u001b[0mscatter\u001b[0m\u001b[1;33m(\u001b[0m\u001b[0mX\u001b[0m\u001b[1;33m[\u001b[0m\u001b[0my_kmeans\u001b[0m \u001b[1;33m==\u001b[0m \u001b[1;36m2\u001b[0m\u001b[1;33m,\u001b[0m \u001b[1;36m0\u001b[0m\u001b[1;33m]\u001b[0m\u001b[1;33m,\u001b[0m \u001b[0mX\u001b[0m\u001b[1;33m[\u001b[0m\u001b[0my_kmeans\u001b[0m \u001b[1;33m==\u001b[0m \u001b[1;36m2\u001b[0m\u001b[1;33m,\u001b[0m \u001b[1;36m1\u001b[0m\u001b[1;33m]\u001b[0m\u001b[1;33m,\u001b[0m \u001b[0ms\u001b[0m \u001b[1;33m=\u001b[0m \u001b[1;36m100\u001b[0m\u001b[1;33m,\u001b[0m \u001b[0mc\u001b[0m \u001b[1;33m=\u001b[0m \u001b[1;34m'red'\u001b[0m\u001b[1;33m,\u001b[0m \u001b[0mlabel\u001b[0m \u001b[1;33m=\u001b[0m \u001b[1;34m'Cluster 3'\u001b[0m\u001b[1;33m)\u001b[0m\u001b[1;33m\u001b[0m\u001b[1;33m\u001b[0m\u001b[0m\n",
      "\u001b[1;32m~\\Anaconda3\\lib\\site-packages\\pandas\\core\\frame.py\u001b[0m in \u001b[0;36m__getitem__\u001b[1;34m(self, key)\u001b[0m\n\u001b[0;32m   2978\u001b[0m             \u001b[1;32mif\u001b[0m \u001b[0mself\u001b[0m\u001b[1;33m.\u001b[0m\u001b[0mcolumns\u001b[0m\u001b[1;33m.\u001b[0m\u001b[0mnlevels\u001b[0m \u001b[1;33m>\u001b[0m \u001b[1;36m1\u001b[0m\u001b[1;33m:\u001b[0m\u001b[1;33m\u001b[0m\u001b[1;33m\u001b[0m\u001b[0m\n\u001b[0;32m   2979\u001b[0m                 \u001b[1;32mreturn\u001b[0m \u001b[0mself\u001b[0m\u001b[1;33m.\u001b[0m\u001b[0m_getitem_multilevel\u001b[0m\u001b[1;33m(\u001b[0m\u001b[0mkey\u001b[0m\u001b[1;33m)\u001b[0m\u001b[1;33m\u001b[0m\u001b[1;33m\u001b[0m\u001b[0m\n\u001b[1;32m-> 2980\u001b[1;33m             \u001b[0mindexer\u001b[0m \u001b[1;33m=\u001b[0m \u001b[0mself\u001b[0m\u001b[1;33m.\u001b[0m\u001b[0mcolumns\u001b[0m\u001b[1;33m.\u001b[0m\u001b[0mget_loc\u001b[0m\u001b[1;33m(\u001b[0m\u001b[0mkey\u001b[0m\u001b[1;33m)\u001b[0m\u001b[1;33m\u001b[0m\u001b[1;33m\u001b[0m\u001b[0m\n\u001b[0m\u001b[0;32m   2981\u001b[0m             \u001b[1;32mif\u001b[0m \u001b[0mis_integer\u001b[0m\u001b[1;33m(\u001b[0m\u001b[0mindexer\u001b[0m\u001b[1;33m)\u001b[0m\u001b[1;33m:\u001b[0m\u001b[1;33m\u001b[0m\u001b[1;33m\u001b[0m\u001b[0m\n\u001b[0;32m   2982\u001b[0m                 \u001b[0mindexer\u001b[0m \u001b[1;33m=\u001b[0m \u001b[1;33m[\u001b[0m\u001b[0mindexer\u001b[0m\u001b[1;33m]\u001b[0m\u001b[1;33m\u001b[0m\u001b[1;33m\u001b[0m\u001b[0m\n",
      "\u001b[1;32m~\\Anaconda3\\lib\\site-packages\\pandas\\core\\indexes\\base.py\u001b[0m in \u001b[0;36mget_loc\u001b[1;34m(self, key, method, tolerance)\u001b[0m\n\u001b[0;32m   2895\u001b[0m                 )\n\u001b[0;32m   2896\u001b[0m             \u001b[1;32mtry\u001b[0m\u001b[1;33m:\u001b[0m\u001b[1;33m\u001b[0m\u001b[1;33m\u001b[0m\u001b[0m\n\u001b[1;32m-> 2897\u001b[1;33m                 \u001b[1;32mreturn\u001b[0m \u001b[0mself\u001b[0m\u001b[1;33m.\u001b[0m\u001b[0m_engine\u001b[0m\u001b[1;33m.\u001b[0m\u001b[0mget_loc\u001b[0m\u001b[1;33m(\u001b[0m\u001b[0mkey\u001b[0m\u001b[1;33m)\u001b[0m\u001b[1;33m\u001b[0m\u001b[1;33m\u001b[0m\u001b[0m\n\u001b[0m\u001b[0;32m   2898\u001b[0m             \u001b[1;32mexcept\u001b[0m \u001b[0mKeyError\u001b[0m\u001b[1;33m:\u001b[0m\u001b[1;33m\u001b[0m\u001b[1;33m\u001b[0m\u001b[0m\n\u001b[0;32m   2899\u001b[0m                 \u001b[1;32mreturn\u001b[0m \u001b[0mself\u001b[0m\u001b[1;33m.\u001b[0m\u001b[0m_engine\u001b[0m\u001b[1;33m.\u001b[0m\u001b[0mget_loc\u001b[0m\u001b[1;33m(\u001b[0m\u001b[0mself\u001b[0m\u001b[1;33m.\u001b[0m\u001b[0m_maybe_cast_indexer\u001b[0m\u001b[1;33m(\u001b[0m\u001b[0mkey\u001b[0m\u001b[1;33m)\u001b[0m\u001b[1;33m)\u001b[0m\u001b[1;33m\u001b[0m\u001b[1;33m\u001b[0m\u001b[0m\n",
      "\u001b[1;32mpandas\\_libs\\index.pyx\u001b[0m in \u001b[0;36mpandas._libs.index.IndexEngine.get_loc\u001b[1;34m()\u001b[0m\n",
      "\u001b[1;32mpandas\\_libs\\index.pyx\u001b[0m in \u001b[0;36mpandas._libs.index.IndexEngine.get_loc\u001b[1;34m()\u001b[0m\n",
      "\u001b[1;31mTypeError\u001b[0m: '(array([ True,  True, False,  True, False,  True,  True,  True,  True,\n        True,  True,  True,  True,  True,  True,  True,  True,  True,\n        True,  True, False,  True,  True,  True, False,  True,  True,\n        True,  True, False,  True,  True,  True,  True,  True, False,\n        True,  True,  True,  True,  True,  True, False,  True, False,\n        True,  True,  True,  True,  True,  True,  True, False,  True,\n        True,  True,  True,  True,  True,  True, False,  True, False,\n        True,  True,  True,  True,  True,  True,  True, False,  True,\n       False,  True, False, False,  True,  True,  True,  True, False,\n        True,  True,  True,  True,  True,  True,  True,  True,  True,\n        True,  True,  True,  True,  True,  True,  True,  True,  True,\n        True, False,  True,  True,  True,  True,  True,  True,  True,\n        True,  True,  True,  True,  True,  True,  True,  True,  True,\n        True, False, False,  True]), 0)' is an invalid key"
     ]
    }
   ],
   "source": [
    "# Visualising the clusters\n",
    "\n",
    "# Making a scatter plot of Xs and y_kmeans\n",
    "plt.scatter(X[y_kmeans == 0, 0], X[y_kmeans == 0, 1], s = 100, c = 'blue', label = 'Cluster 1')\n",
    "plt.scatter(X[y_kmeans == 1, 0], X[y_kmeans == 1, 1], s = 100, c = 'cyan', label = 'Cluster 2')\n",
    "plt.scatter(X[y_kmeans == 2, 0], X[y_kmeans == 2, 1], s = 100, c = 'red', label = 'Cluster 3')\n",
    "\n",
    "# Asign the cluster centers\n",
    "plt.scatter(kmeans.cluster_centers_[:, 0], kmeans.cluster_centers_[:, 1], s = 100, c = 'yellow', label = 'Centroids')\n",
    "\n",
    "# Plotting clusters\n",
    "plt.title('Clusters of Percentage of Female Engineers by Category')\n",
    "plt.xlabel('Clusters of Female Engineers')\n",
    "plt.ylabel('Categories')\n",
    "plt.legend()\n",
    "plt.show()"
   ]
  },
  {
   "cell_type": "code",
   "execution_count": 50,
   "metadata": {},
   "outputs": [
    {
     "ename": "NameError",
     "evalue": "name 'centroids' is not defined",
     "output_type": "error",
     "traceback": [
      "\u001b[1;31m---------------------------------------------------------------------------\u001b[0m",
      "\u001b[1;31mNameError\u001b[0m                                 Traceback (most recent call last)",
      "\u001b[1;32m<ipython-input-50-58be0b76ddb0>\u001b[0m in \u001b[0;36m<module>\u001b[1;34m\u001b[0m\n\u001b[1;32m----> 1\u001b[1;33m \u001b[0mcentroids\u001b[0m\u001b[1;33m\u001b[0m\u001b[1;33m\u001b[0m\u001b[0m\n\u001b[0m",
      "\u001b[1;31mNameError\u001b[0m: name 'centroids' is not defined"
     ]
    }
   ],
   "source": [
    "centroids"
   ]
  },
  {
   "cell_type": "markdown",
   "metadata": {},
   "source": [
    "## 4. Analysis\n",
    "\n",
    "_Instructions from Final_Project.pdf:_\n",
    "- Summarize the results of the analysis without discussing\n",
    "their implications"
   ]
  },
  {
   "cell_type": "markdown",
   "metadata": {},
   "source": [
    "## 5. Conclusion\n",
    "\n",
    "_Instructions from Final_Project.pdf:_\n",
    "- Interpret and explain your results\n",
    "- Did the study answer your questions?"
   ]
  },
  {
   "cell_type": "markdown",
   "metadata": {},
   "source": [
    "## 6. References"
   ]
  }
 ],
 "metadata": {
  "kernelspec": {
   "display_name": "Python 3",
   "language": "python",
   "name": "python3"
  },
  "language_info": {
   "codemirror_mode": {
    "name": "ipython",
    "version": 3
   },
   "file_extension": ".py",
   "mimetype": "text/x-python",
   "name": "python",
   "nbconvert_exporter": "python",
   "pygments_lexer": "ipython3",
   "version": "3.7.4"
  }
 },
 "nbformat": 4,
 "nbformat_minor": 2
}
